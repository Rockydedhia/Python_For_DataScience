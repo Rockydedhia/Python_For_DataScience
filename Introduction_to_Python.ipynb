{
  "nbformat": 4,
  "nbformat_minor": 0,
  "metadata": {
    "colab": {
      "name": "Introduction_to_Python.ipynb",
      "provenance": [],
      "collapsed_sections": [],
      "authorship_tag": "ABX9TyOBAtzp3py7q7YpAXpQKtpS",
      "include_colab_link": true
    },
    "kernelspec": {
      "name": "python3",
      "display_name": "Python 3"
    }
  },
  "cells": [
    {
      "cell_type": "markdown",
      "metadata": {
        "id": "view-in-github",
        "colab_type": "text"
      },
      "source": [
        "<a href=\"https://colab.research.google.com/github/Rockydedhia/Python_For_DataScience/blob/master/Introduction_to_Python.ipynb\" target=\"_parent\"><img src=\"https://colab.research.google.com/assets/colab-badge.svg\" alt=\"Open In Colab\"/></a>"
      ]
    },
    {
      "cell_type": "code",
      "metadata": {
        "id": "7oO1YcAMxmUj",
        "colab_type": "code",
        "colab": {}
      },
      "source": [
        ""
      ],
      "execution_count": 0,
      "outputs": []
    },
    {
      "cell_type": "markdown",
      "metadata": {
        "id": "53-AvK_MLxkO",
        "colab_type": "text"
      },
      "source": [
        "This is my first Jupter Notebook\n",
        "\n",
        "Shift + Enter to Execute the cell of Text"
      ]
    },
    {
      "cell_type": "code",
      "metadata": {
        "id": "9SQzE0WSL6bD",
        "colab_type": "code",
        "outputId": "4e56ef05-00dc-4090-d5e0-483d3bc1055a",
        "colab": {
          "base_uri": "https://localhost:8080/",
          "height": 166
        }
      },
      "source": [
        "hello"
      ],
      "execution_count": 0,
      "outputs": [
        {
          "output_type": "error",
          "ename": "NameError",
          "evalue": "ignored",
          "traceback": [
            "\u001b[0;31m---------------------------------------------------------------------------\u001b[0m",
            "\u001b[0;31mNameError\u001b[0m                                 Traceback (most recent call last)",
            "\u001b[0;32m<ipython-input-1-f572d396fae9>\u001b[0m in \u001b[0;36m<module>\u001b[0;34m()\u001b[0m\n\u001b[0;32m----> 1\u001b[0;31m \u001b[0mhello\u001b[0m\u001b[0;34m\u001b[0m\u001b[0;34m\u001b[0m\u001b[0m\n\u001b[0m",
            "\u001b[0;31mNameError\u001b[0m: name 'hello' is not defined"
          ]
        }
      ]
    },
    {
      "cell_type": "code",
      "metadata": {
        "id": "2opnU5vgNWep",
        "colab_type": "code",
        "colab": {}
      },
      "source": [
        "name=\"Bhavin\"\n",
        "#hey this my first variables called String"
      ],
      "execution_count": 0,
      "outputs": []
    },
    {
      "cell_type": "code",
      "metadata": {
        "id": "XjFtIs2CNggp",
        "colab_type": "code",
        "outputId": "8d7f6ca7-c75a-4c30-ed85-337a1a8ca5d4",
        "colab": {
          "base_uri": "https://localhost:8080/",
          "height": 35
        }
      },
      "source": [
        "print(name)"
      ],
      "execution_count": 0,
      "outputs": [
        {
          "output_type": "stream",
          "text": [
            "Bhavin\n"
          ],
          "name": "stdout"
        }
      ]
    },
    {
      "cell_type": "code",
      "metadata": {
        "id": "uf96f_xSOFpB",
        "colab_type": "code",
        "outputId": "b6995b4d-8a79-41a5-bdbf-69dd25421517",
        "colab": {
          "base_uri": "https://localhost:8080/",
          "height": 35
        }
      },
      "source": [
        "name"
      ],
      "execution_count": 0,
      "outputs": [
        {
          "output_type": "execute_result",
          "data": {
            "text/plain": [
              "'Bhavin'"
            ]
          },
          "metadata": {
            "tags": []
          },
          "execution_count": 5
        }
      ]
    },
    {
      "cell_type": "code",
      "metadata": {
        "id": "UrThCcRvPLE6",
        "colab_type": "code",
        "colab": {}
      },
      "source": [
        "Num=\"78\"\n",
        "#hey this is Number "
      ],
      "execution_count": 0,
      "outputs": []
    },
    {
      "cell_type": "code",
      "metadata": {
        "id": "O3V_h0X7RW-l",
        "colab_type": "code",
        "outputId": "30a03e30-4a72-4f65-d4e2-36604159de31",
        "colab": {
          "base_uri": "https://localhost:8080/",
          "height": 35
        }
      },
      "source": [
        "Num"
      ],
      "execution_count": 0,
      "outputs": [
        {
          "output_type": "execute_result",
          "data": {
            "text/plain": [
              "'78'"
            ]
          },
          "metadata": {
            "tags": []
          },
          "execution_count": 9
        }
      ]
    },
    {
      "cell_type": "code",
      "metadata": {
        "id": "PRCH-vvaRYzc",
        "colab_type": "code",
        "outputId": "c33ac0a0-70e8-4839-f161-259835e3c179",
        "colab": {
          "base_uri": "https://localhost:8080/",
          "height": 166
        }
      },
      "source": [
        "num"
      ],
      "execution_count": 0,
      "outputs": [
        {
          "output_type": "error",
          "ename": "NameError",
          "evalue": "ignored",
          "traceback": [
            "\u001b[0;31m---------------------------------------------------------------------------\u001b[0m",
            "\u001b[0;31mNameError\u001b[0m                                 Traceback (most recent call last)",
            "\u001b[0;32m<ipython-input-10-c774dac2b598>\u001b[0m in \u001b[0;36m<module>\u001b[0;34m()\u001b[0m\n\u001b[0;32m----> 1\u001b[0;31m \u001b[0mnum\u001b[0m\u001b[0;34m\u001b[0m\u001b[0;34m\u001b[0m\u001b[0m\n\u001b[0m",
            "\u001b[0;31mNameError\u001b[0m: name 'num' is not defined"
          ]
        }
      ]
    },
    {
      "cell_type": "code",
      "metadata": {
        "id": "DEBMTHJWRarc",
        "colab_type": "code",
        "colab": {}
      },
      "source": [
        "Age=90"
      ],
      "execution_count": 0,
      "outputs": []
    },
    {
      "cell_type": "code",
      "metadata": {
        "id": "EscGZimJRf72",
        "colab_type": "code",
        "outputId": "b729c8b0-1873-4656-89ac-2eb7235d7d47",
        "colab": {
          "base_uri": "https://localhost:8080/",
          "height": 35
        }
      },
      "source": [
        "Age"
      ],
      "execution_count": 0,
      "outputs": [
        {
          "output_type": "execute_result",
          "data": {
            "text/plain": [
              "90"
            ]
          },
          "metadata": {
            "tags": []
          },
          "execution_count": 12
        }
      ]
    },
    {
      "cell_type": "code",
      "metadata": {
        "id": "e3yD8aFZRh4y",
        "colab_type": "code",
        "outputId": "3a71d57c-038d-4cfe-ca5f-14e39086a9cf",
        "colab": {
          "base_uri": "https://localhost:8080/",
          "height": 52
        }
      },
      "source": [
        "print(name)\n",
        "print(Age)\n",
        "# Printing the Variables"
      ],
      "execution_count": 0,
      "outputs": [
        {
          "output_type": "stream",
          "text": [
            "Bhavin\n",
            "90\n"
          ],
          "name": "stdout"
        }
      ]
    },
    {
      "cell_type": "code",
      "metadata": {
        "id": "LTjJMu1lST2x",
        "colab_type": "code",
        "outputId": "51d810f3-7955-4467-c898-9fee48adf0e1",
        "colab": {
          "base_uri": "https://localhost:8080/",
          "height": 166
        }
      },
      "source": [
        "#Boolean Variables\n",
        "male= true"
      ],
      "execution_count": 0,
      "outputs": [
        {
          "output_type": "error",
          "ename": "NameError",
          "evalue": "ignored",
          "traceback": [
            "\u001b[0;31m---------------------------------------------------------------------------\u001b[0m",
            "\u001b[0;31mNameError\u001b[0m                                 Traceback (most recent call last)",
            "\u001b[0;32m<ipython-input-15-3687f6a31665>\u001b[0m in \u001b[0;36m<module>\u001b[0;34m()\u001b[0m\n\u001b[0;32m----> 1\u001b[0;31m \u001b[0mmale\u001b[0m\u001b[0;34m=\u001b[0m \u001b[0mtrue\u001b[0m\u001b[0;34m\u001b[0m\u001b[0;34m\u001b[0m\u001b[0m\n\u001b[0m",
            "\u001b[0;31mNameError\u001b[0m: name 'true' is not defined"
          ]
        }
      ]
    },
    {
      "cell_type": "code",
      "metadata": {
        "id": "AmsFPRhQTjVR",
        "colab_type": "code",
        "colab": {}
      },
      "source": [
        "male= True"
      ],
      "execution_count": 0,
      "outputs": []
    },
    {
      "cell_type": "code",
      "metadata": {
        "id": "d88mplDxTnZ-",
        "colab_type": "code",
        "outputId": "5b168e3b-9260-4892-c09b-47389c0f7217",
        "colab": {
          "base_uri": "https://localhost:8080/",
          "height": 35
        }
      },
      "source": [
        "male"
      ],
      "execution_count": 0,
      "outputs": [
        {
          "output_type": "execute_result",
          "data": {
            "text/plain": [
              "True"
            ]
          },
          "metadata": {
            "tags": []
          },
          "execution_count": 17
        }
      ]
    },
    {
      "cell_type": "code",
      "metadata": {
        "id": "P4ASdJzUTqtu",
        "colab_type": "code",
        "outputId": "788d236b-cea2-4011-fcb3-27513c468bb7",
        "colab": {
          "base_uri": "https://localhost:8080/",
          "height": 35
        }
      },
      "source": [
        "type(male)"
      ],
      "execution_count": 0,
      "outputs": [
        {
          "output_type": "execute_result",
          "data": {
            "text/plain": [
              "bool"
            ]
          },
          "metadata": {
            "tags": []
          },
          "execution_count": 18
        }
      ]
    },
    {
      "cell_type": "code",
      "metadata": {
        "id": "t8ruc1AQTx1j",
        "colab_type": "code",
        "colab": {}
      },
      "source": [
        "#floating Numbers with points\n",
        "Percentage=75.60"
      ],
      "execution_count": 0,
      "outputs": []
    },
    {
      "cell_type": "code",
      "metadata": {
        "id": "wKXGlbLrUPmL",
        "colab_type": "code",
        "outputId": "d95e6f06-be98-4ff9-8206-4c0fff7c3084",
        "colab": {
          "base_uri": "https://localhost:8080/",
          "height": 35
        }
      },
      "source": [
        "Percentage"
      ],
      "execution_count": 0,
      "outputs": [
        {
          "output_type": "execute_result",
          "data": {
            "text/plain": [
              "75.6"
            ]
          },
          "metadata": {
            "tags": []
          },
          "execution_count": 20
        }
      ]
    },
    {
      "cell_type": "code",
      "metadata": {
        "id": "Gb9X0WfDURve",
        "colab_type": "code",
        "outputId": "f1daf3ea-0d7f-4728-dd1a-6795cd866d08",
        "colab": {
          "base_uri": "https://localhost:8080/",
          "height": 35
        }
      },
      "source": [
        "type(Percentage)"
      ],
      "execution_count": 0,
      "outputs": [
        {
          "output_type": "execute_result",
          "data": {
            "text/plain": [
              "float"
            ]
          },
          "metadata": {
            "tags": []
          },
          "execution_count": 21
        }
      ]
    },
    {
      "cell_type": "code",
      "metadata": {
        "id": "MTyYf1sBUT8D",
        "colab_type": "code",
        "colab": {}
      },
      "source": [
        "list=[\"BHavin\",\"HEy\",\"Good\"]"
      ],
      "execution_count": 0,
      "outputs": []
    },
    {
      "cell_type": "code",
      "metadata": {
        "id": "ZlVEpGxSU1-S",
        "colab_type": "code",
        "outputId": "aced80b5-b7b0-4d4f-b0dc-800cff7b9c9b",
        "colab": {
          "base_uri": "https://localhost:8080/",
          "height": 35
        }
      },
      "source": [
        "list"
      ],
      "execution_count": 0,
      "outputs": [
        {
          "output_type": "execute_result",
          "data": {
            "text/plain": [
              "['BHavin', 'HEy', 'Good']"
            ]
          },
          "metadata": {
            "tags": []
          },
          "execution_count": 25
        }
      ]
    },
    {
      "cell_type": "code",
      "metadata": {
        "id": "w9Cz-hFAU5JF",
        "colab_type": "code",
        "colab": {}
      },
      "source": [
        "Marks=[25,41,69.9,78,356,\"Bhavin Dedhia\",True]\n",
        "#List it can handel every type - String,Number,Boll,etc\n",
        "#for counting it allways starts with 0"
      ],
      "execution_count": 0,
      "outputs": []
    },
    {
      "cell_type": "code",
      "metadata": {
        "id": "7QrugLrbeyYX",
        "colab_type": "code",
        "outputId": "3d7b7049-2864-43bb-fda2-891a31fe30a9",
        "colab": {
          "base_uri": "https://localhost:8080/",
          "height": 35
        }
      },
      "source": [
        "len(Marks) # length of  List"
      ],
      "execution_count": 0,
      "outputs": [
        {
          "output_type": "execute_result",
          "data": {
            "text/plain": [
              "7"
            ]
          },
          "metadata": {
            "tags": []
          },
          "execution_count": 60
        }
      ]
    },
    {
      "cell_type": "code",
      "metadata": {
        "id": "LUoMFKM5VE3m",
        "colab_type": "code",
        "outputId": "f3338579-c836-4a49-8409-d4e57688a168",
        "colab": {
          "base_uri": "https://localhost:8080/",
          "height": 35
        }
      },
      "source": [
        "Marks"
      ],
      "execution_count": 0,
      "outputs": [
        {
          "output_type": "execute_result",
          "data": {
            "text/plain": [
              "[25, 41, 69.9, 78, 356, 'Bhavin Dedhia', True]"
            ]
          },
          "metadata": {
            "tags": []
          },
          "execution_count": 37
        }
      ]
    },
    {
      "cell_type": "code",
      "metadata": {
        "id": "RRlIFdb0VItU",
        "colab_type": "code",
        "outputId": "2c6305f3-5c05-4d07-ac7d-ec742b2bfcb2",
        "colab": {
          "base_uri": "https://localhost:8080/",
          "height": 35
        }
      },
      "source": [
        "Marks[5]\n",
        "#slicing selection of an perticular value"
      ],
      "execution_count": 0,
      "outputs": [
        {
          "output_type": "execute_result",
          "data": {
            "text/plain": [
              "'Bhavin Dedhia'"
            ]
          },
          "metadata": {
            "tags": []
          },
          "execution_count": 39
        }
      ]
    },
    {
      "cell_type": "code",
      "metadata": {
        "id": "UUZ0jiYHWQMP",
        "colab_type": "code",
        "colab": {}
      },
      "source": [
        "#Dictnoary \n",
        "Education={\"Tenth\":70,\"Twelth\":90,\"Gender\":\"Male\"}\n",
        "          # KEYS : Values"
      ],
      "execution_count": 0,
      "outputs": []
    },
    {
      "cell_type": "code",
      "metadata": {
        "id": "Y3lFyEh_YFsL",
        "colab_type": "code",
        "outputId": "17742d56-92f4-4985-872b-a6521a0d2819",
        "colab": {
          "base_uri": "https://localhost:8080/",
          "height": 35
        }
      },
      "source": [
        "Education"
      ],
      "execution_count": 0,
      "outputs": [
        {
          "output_type": "execute_result",
          "data": {
            "text/plain": [
              "{'Gender': 'Male', 'Tenth': 70, 'Twelth': 90}"
            ]
          },
          "metadata": {
            "tags": []
          },
          "execution_count": 42
        }
      ]
    },
    {
      "cell_type": "code",
      "metadata": {
        "id": "vUCn5KyYYsw9",
        "colab_type": "code",
        "outputId": "93e3ad9b-dd17-42d3-b694-fb84b3dfa0a2",
        "colab": {
          "base_uri": "https://localhost:8080/",
          "height": 35
        }
      },
      "source": [
        "#Selecting item from the dictonary\n",
        "#print only Tenth value\n",
        "\n",
        "Education['Tenth']"
      ],
      "execution_count": 0,
      "outputs": [
        {
          "output_type": "execute_result",
          "data": {
            "text/plain": [
              "70"
            ]
          },
          "metadata": {
            "tags": []
          },
          "execution_count": 45
        }
      ]
    },
    {
      "cell_type": "code",
      "metadata": {
        "id": "yUr62GqFZYnJ",
        "colab_type": "code",
        "outputId": "d0c2bf52-d9aa-4827-cd27-5cf3c5ce055c",
        "colab": {
          "base_uri": "https://localhost:8080/",
          "height": 35
        }
      },
      "source": [
        "Education.keys() # Print only keys "
      ],
      "execution_count": 0,
      "outputs": [
        {
          "output_type": "execute_result",
          "data": {
            "text/plain": [
              "dict_keys(['Tenth', 'Twelth', 'Gender'])"
            ]
          },
          "metadata": {
            "tags": []
          },
          "execution_count": 47
        }
      ]
    },
    {
      "cell_type": "code",
      "metadata": {
        "id": "QbrpwgikZ74-",
        "colab_type": "code",
        "outputId": "b54a3a34-2508-43dd-8e45-f0f93357c4d8",
        "colab": {
          "base_uri": "https://localhost:8080/",
          "height": 35
        }
      },
      "source": [
        "#dictonary for printing only values\n",
        "Education.values()"
      ],
      "execution_count": 0,
      "outputs": [
        {
          "output_type": "execute_result",
          "data": {
            "text/plain": [
              "dict_values([70, 90, 'Male'])"
            ]
          },
          "metadata": {
            "tags": []
          },
          "execution_count": 48
        }
      ]
    },
    {
      "cell_type": "code",
      "metadata": {
        "id": "RtfSkmruaad2",
        "colab_type": "code",
        "colab": {}
      },
      "source": [
        "#make a dictonary contaning a list \n",
        "\n",
        "students={\"Student1\":[99,55,44,11,22],\n",
        "          \"Student2\":[99,52,44,12,22],\n",
        "          \"Student3\":[99,25,24,2,22]}"
      ],
      "execution_count": 0,
      "outputs": []
    },
    {
      "cell_type": "code",
      "metadata": {
        "id": "tOHJx3hgc1xr",
        "colab_type": "code",
        "outputId": "8a6c9db4-cbf4-401a-fa33-0162c3d0715b",
        "colab": {
          "base_uri": "https://localhost:8080/",
          "height": 52
        }
      },
      "source": [
        "#print the marks of stud2  gradution score of\n",
        "\n",
        "print(students[\"Student2\"][2])\n",
        "students[\"Student3\"][-1]\n"
      ],
      "execution_count": 0,
      "outputs": [
        {
          "output_type": "stream",
          "text": [
            "44\n"
          ],
          "name": "stdout"
        },
        {
          "output_type": "execute_result",
          "data": {
            "text/plain": [
              "22"
            ]
          },
          "metadata": {
            "tags": []
          },
          "execution_count": 58
        }
      ]
    },
    {
      "cell_type": "code",
      "metadata": {
        "id": "ICjaCgU1bbBU",
        "colab_type": "code",
        "outputId": "32b86d7e-ac4b-49dc-fdbb-478cfcad9a78",
        "colab": {
          "base_uri": "https://localhost:8080/",
          "height": 69
        }
      },
      "source": [
        "students"
      ],
      "execution_count": 0,
      "outputs": [
        {
          "output_type": "execute_result",
          "data": {
            "text/plain": [
              "{'Student1': [99, 55, 44, 11, 22],\n",
              " 'Student2': [99, 52, 44, 12, 22],\n",
              " 'Student3': [99, 25, 24, 2, 22]}"
            ]
          },
          "metadata": {
            "tags": []
          },
          "execution_count": 51
        }
      ]
    },
    {
      "cell_type": "code",
      "metadata": {
        "id": "a0fJ3l24bc0I",
        "colab_type": "code",
        "colab": {}
      },
      "source": [
        "#make a list a dictonary\n",
        "friends=[{'name':'rahul,','age':27},{\"name\":\"ravi\",\"age\":90}]"
      ],
      "execution_count": 0,
      "outputs": []
    },
    {
      "cell_type": "code",
      "metadata": {
        "id": "gDcDtdAPcwVi",
        "colab_type": "code",
        "colab": {}
      },
      "source": [
        "myfriend=[\"Bhavin\",\"Raj\",\"Rahul\"]"
      ],
      "execution_count": 0,
      "outputs": []
    },
    {
      "cell_type": "code",
      "metadata": {
        "id": "ojtwjB-Sir28",
        "colab_type": "code",
        "outputId": "d870e706-a694-4046-8f1f-09942325008c",
        "colab": {
          "base_uri": "https://localhost:8080/",
          "height": 35
        }
      },
      "source": [
        "myfriend"
      ],
      "execution_count": 0,
      "outputs": [
        {
          "output_type": "execute_result",
          "data": {
            "text/plain": [
              "['Bhavin', 'Raj', 'Rahul']"
            ]
          },
          "metadata": {
            "tags": []
          },
          "execution_count": 62
        }
      ]
    },
    {
      "cell_type": "code",
      "metadata": {
        "id": "aVQXO-W-iuTS",
        "colab_type": "code",
        "colab": {}
      },
      "source": [
        "myfriend.append(\"LIsma\")"
      ],
      "execution_count": 0,
      "outputs": []
    },
    {
      "cell_type": "code",
      "metadata": {
        "id": "vasmGLrWjKaw",
        "colab_type": "code",
        "outputId": "792bedae-d3a1-4374-bfa3-2b21683b5af6",
        "colab": {
          "base_uri": "https://localhost:8080/",
          "height": 35
        }
      },
      "source": [
        "myfriend"
      ],
      "execution_count": 0,
      "outputs": [
        {
          "output_type": "execute_result",
          "data": {
            "text/plain": [
              "['Bhavin', 'Raj', 'Rahul', 'LIsma']"
            ]
          },
          "metadata": {
            "tags": []
          },
          "execution_count": 64
        }
      ]
    },
    {
      "cell_type": "code",
      "metadata": {
        "id": "vHMjDZq0jMZh",
        "colab_type": "code",
        "colab": {}
      },
      "source": [
        "myfriend[2]=\"good\" # add the value add"
      ],
      "execution_count": 0,
      "outputs": []
    },
    {
      "cell_type": "code",
      "metadata": {
        "id": "KggnVKxejxNc",
        "colab_type": "code",
        "outputId": "4907c034-f453-4099-d0a7-af166db0f608",
        "colab": {
          "base_uri": "https://localhost:8080/",
          "height": 35
        }
      },
      "source": [
        "myfriend"
      ],
      "execution_count": 0,
      "outputs": [
        {
          "output_type": "execute_result",
          "data": {
            "text/plain": [
              "['Bhavin', 'Raj', 'good', 'LIsma']"
            ]
          },
          "metadata": {
            "tags": []
          },
          "execution_count": 69
        }
      ]
    },
    {
      "cell_type": "code",
      "metadata": {
        "id": "Y5lpzuWpkrbU",
        "colab_type": "code",
        "colab": {}
      },
      "source": [
        "myfriend.insert(2,\"BHavin Dedhia\") # add the value add"
      ],
      "execution_count": 0,
      "outputs": []
    },
    {
      "cell_type": "code",
      "metadata": {
        "id": "DicuBTz5lMRg",
        "colab_type": "code",
        "outputId": "93f4487c-4ca1-413e-e7a2-e4d2e0797115",
        "colab": {
          "base_uri": "https://localhost:8080/",
          "height": 35
        }
      },
      "source": [
        "myfriend"
      ],
      "execution_count": 0,
      "outputs": [
        {
          "output_type": "execute_result",
          "data": {
            "text/plain": [
              "['Bhavin', 'Raj', 'BHavin Dedhia', 'good', 'LIsma']"
            ]
          },
          "metadata": {
            "tags": []
          },
          "execution_count": 71
        }
      ]
    },
    {
      "cell_type": "code",
      "metadata": {
        "id": "dr7m9ecdlOVU",
        "colab_type": "code",
        "colab": {}
      },
      "source": [
        ""
      ],
      "execution_count": 0,
      "outputs": []
    }
  ]
}