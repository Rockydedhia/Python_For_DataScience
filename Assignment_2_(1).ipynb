{
  "nbformat": 4,
  "nbformat_minor": 0,
  "metadata": {
    "colab": {
      "name": "Assignment_2 (1).ipynb",
      "provenance": [],
      "collapsed_sections": [],
      "include_colab_link": true
    },
    "kernelspec": {
      "display_name": "Python 3",
      "language": "python",
      "name": "python3"
    },
    "language_info": {
      "codemirror_mode": {
        "name": "ipython",
        "version": 3
      },
      "file_extension": ".py",
      "mimetype": "text/x-python",
      "name": "python",
      "nbconvert_exporter": "python",
      "pygments_lexer": "ipython3",
      "version": "3.8.2"
    }
  },
  "cells": [
    {
      "cell_type": "markdown",
      "metadata": {
        "id": "view-in-github",
        "colab_type": "text"
      },
      "source": [
        "<a href=\"https://colab.research.google.com/github/Rockydedhia/Python_For_DataScience/blob/master/Assignment_2_(1).ipynb\" target=\"_parent\"><img src=\"https://colab.research.google.com/assets/colab-badge.svg\" alt=\"Open In Colab\"/></a>"
      ]
    },
    {
      "cell_type": "code",
      "metadata": {
        "colab_type": "code",
        "id": "Q4cMBSImbOiI",
        "colab": {}
      },
      "source": [
        "import numpy as np\n",
        "import pandas as pd\n",
        "import matplotlib.pyplot as plt\n",
        "#pd.reset_option('display.min_columns')\n",
        "import seaborn as sns\n"
      ],
      "execution_count": 0,
      "outputs": []
    },
    {
      "cell_type": "code",
      "metadata": {
        "colab_type": "code",
        "id": "xvfmP6agf8Qn",
        "outputId": "a84ee6c1-cdc3-446f-e672-253b99f7a9dc",
        "colab": {
          "base_uri": "https://localhost:8080/",
          "height": 34
        }
      },
      "source": [
        "y = pd.read_csv(r'/content/playstore-analysis (2) (1).csv')\n",
        "y.iloc[4453]\n",
        "y.shape"
      ],
      "execution_count": 72,
      "outputs": [
        {
          "output_type": "execute_result",
          "data": {
            "text/plain": [
              "(10841, 13)"
            ]
          },
          "metadata": {
            "tags": []
          },
          "execution_count": 72
        }
      ]
    },
    {
      "cell_type": "markdown",
      "metadata": {
        "id": "F0Tk5mbXLhRS",
        "colab_type": "text"
      },
      "source": [
        "## Task 1##\n",
        "\n",
        "__Data Clean Up - Missing Value treatment___\n",
        "\n",
        "__(1.a) Dropping records where Ratting is missing since Rating is our Target or Study Variable__"
      ]
    },
    {
      "cell_type": "code",
      "metadata": {
        "colab_type": "code",
        "id": "dAWnU_0Lo82f",
        "outputId": "c555f798-a55e-4e79-b173-46c52553f15b",
        "colab": {
          "base_uri": "https://localhost:8080/",
          "height": 87
        }
      },
      "source": [
        "print(\"Checking For Missing Values in Rating Column are -\",y['Rating'].isnull().sum())\n",
        "\n",
        "print(\"Dropping all missing values in Rating Column \\n\")\n",
        "\n",
        "y.dropna(subset=['Rating'],inplace=True)\n",
        "\n",
        "print(\"After Droping Mising values in Rating column are \",y['Rating'].isnull().sum())\n",
        "\n",
        "y=y.reset_index(drop=True)     \n",
        "      \n",
        "      \n"
      ],
      "execution_count": 73,
      "outputs": [
        {
          "output_type": "stream",
          "text": [
            "Checking For Missing Values in Rating Column are - 1474\n",
            "Dropping all missing values in Rating Column \n",
            "\n",
            "After Droping Mising values in Rating column are  0\n"
          ],
          "name": "stdout"
        }
      ]
    },
    {
      "cell_type": "code",
      "metadata": {
        "colab_type": "code",
        "id": "dYIMONNmpNTi",
        "outputId": "a50feaa7-21d0-4e05-ff38-10ebae4909f0",
        "colab": {
          "base_uri": "https://localhost:8080/",
          "height": 330
        }
      },
      "source": [
        "print(\"Checking for Null values in Android ver \\n\")\n",
        "c=pd.isnull(y['Android Ver'])\n",
        "y[c]"
      ],
      "execution_count": 74,
      "outputs": [
        {
          "output_type": "stream",
          "text": [
            "Checking for Null values in Android ver \n",
            "\n"
          ],
          "name": "stdout"
        },
        {
          "output_type": "execute_result",
          "data": {
            "text/html": [
              "<div>\n",
              "<style scoped>\n",
              "    .dataframe tbody tr th:only-of-type {\n",
              "        vertical-align: middle;\n",
              "    }\n",
              "\n",
              "    .dataframe tbody tr th {\n",
              "        vertical-align: top;\n",
              "    }\n",
              "\n",
              "    .dataframe thead th {\n",
              "        text-align: right;\n",
              "    }\n",
              "</style>\n",
              "<table border=\"1\" class=\"dataframe\">\n",
              "  <thead>\n",
              "    <tr style=\"text-align: right;\">\n",
              "      <th></th>\n",
              "      <th>App</th>\n",
              "      <th>Category</th>\n",
              "      <th>Rating</th>\n",
              "      <th>Reviews</th>\n",
              "      <th>Size</th>\n",
              "      <th>Installs</th>\n",
              "      <th>Type</th>\n",
              "      <th>Price</th>\n",
              "      <th>Content Rating</th>\n",
              "      <th>Genres</th>\n",
              "      <th>Last Updated</th>\n",
              "      <th>Current Ver</th>\n",
              "      <th>Android Ver</th>\n",
              "    </tr>\n",
              "  </thead>\n",
              "  <tbody>\n",
              "    <tr>\n",
              "      <th>4280</th>\n",
              "      <td>[substratum] Vacuum: P</td>\n",
              "      <td>PERSONALIZATION</td>\n",
              "      <td>4.4</td>\n",
              "      <td>230</td>\n",
              "      <td>11000.000000</td>\n",
              "      <td>1,000+</td>\n",
              "      <td>Paid</td>\n",
              "      <td>$1.49</td>\n",
              "      <td>Everyone</td>\n",
              "      <td>Personalization</td>\n",
              "      <td>July 20, 2018</td>\n",
              "      <td>4.4</td>\n",
              "      <td>NaN</td>\n",
              "    </tr>\n",
              "    <tr>\n",
              "      <th>4308</th>\n",
              "      <td>Pi Dark [substratum]</td>\n",
              "      <td>PERSONALIZATION</td>\n",
              "      <td>4.5</td>\n",
              "      <td>189</td>\n",
              "      <td>2100.000000</td>\n",
              "      <td>10,000+</td>\n",
              "      <td>Free</td>\n",
              "      <td>0</td>\n",
              "      <td>Everyone</td>\n",
              "      <td>Personalization</td>\n",
              "      <td>March 27, 2018</td>\n",
              "      <td>1.1</td>\n",
              "      <td>NaN</td>\n",
              "    </tr>\n",
              "    <tr>\n",
              "      <th>9117</th>\n",
              "      <td>Life Made WI-Fi Touchscreen Photo Frame</td>\n",
              "      <td>1.9</td>\n",
              "      <td>19.0</td>\n",
              "      <td>3.0M</td>\n",
              "      <td>21516.529524</td>\n",
              "      <td>Free</td>\n",
              "      <td>0</td>\n",
              "      <td>Everyone</td>\n",
              "      <td>NaN</td>\n",
              "      <td>February 11, 2018</td>\n",
              "      <td>1.0.19</td>\n",
              "      <td>4.0 and up</td>\n",
              "      <td>NaN</td>\n",
              "    </tr>\n",
              "  </tbody>\n",
              "</table>\n",
              "</div>"
            ],
            "text/plain": [
              "                                          App  ... Android Ver\n",
              "4280                   [substratum] Vacuum: P  ...         NaN\n",
              "4308                     Pi Dark [substratum]  ...         NaN\n",
              "9117  Life Made WI-Fi Touchscreen Photo Frame  ...         NaN\n",
              "\n",
              "[3 rows x 13 columns]"
            ]
          },
          "metadata": {
            "tags": []
          },
          "execution_count": 74
        }
      ]
    },
    {
      "cell_type": "code",
      "metadata": {
        "id": "RiotRQZ9LhRY",
        "colab_type": "code",
        "outputId": "405c3a25-7ebf-4b02-f939-1b4f0808b719",
        "colab": {
          "base_uri": "https://localhost:8080/",
          "height": 34
        }
      },
      "source": [
        "y.shape"
      ],
      "execution_count": 75,
      "outputs": [
        {
          "output_type": "execute_result",
          "data": {
            "text/plain": [
              "(9367, 13)"
            ]
          },
          "metadata": {
            "tags": []
          },
          "execution_count": 75
        }
      ]
    },
    {
      "cell_type": "code",
      "metadata": {
        "colab_type": "code",
        "id": "yciwb-fDmVUs",
        "outputId": "4209789e-8c5f-4b64-ec12-e704ba1fd4ea",
        "colab": {
          "base_uri": "https://localhost:8080/",
          "height": 52
        }
      },
      "source": [
        "print(\"Drop the 3rd records ie record for life made wifi\\n\")\n",
        "y.drop([9117],inplace=True)"
      ],
      "execution_count": 76,
      "outputs": [
        {
          "output_type": "stream",
          "text": [
            "Drop the 3rd records ie record for life made wifi\n",
            "\n"
          ],
          "name": "stdout"
        }
      ]
    },
    {
      "cell_type": "code",
      "metadata": {
        "colab_type": "code",
        "id": "bwpthhH_s6RC",
        "outputId": "5e33aa64-64ed-496b-c4a1-d458b2c62f4e",
        "colab": {
          "base_uri": "https://localhost:8080/",
          "height": 176
        }
      },
      "source": [
        "c=pd.isnull(y['Android Ver'])\n",
        "y[c]"
      ],
      "execution_count": 77,
      "outputs": [
        {
          "output_type": "execute_result",
          "data": {
            "text/html": [
              "<div>\n",
              "<style scoped>\n",
              "    .dataframe tbody tr th:only-of-type {\n",
              "        vertical-align: middle;\n",
              "    }\n",
              "\n",
              "    .dataframe tbody tr th {\n",
              "        vertical-align: top;\n",
              "    }\n",
              "\n",
              "    .dataframe thead th {\n",
              "        text-align: right;\n",
              "    }\n",
              "</style>\n",
              "<table border=\"1\" class=\"dataframe\">\n",
              "  <thead>\n",
              "    <tr style=\"text-align: right;\">\n",
              "      <th></th>\n",
              "      <th>App</th>\n",
              "      <th>Category</th>\n",
              "      <th>Rating</th>\n",
              "      <th>Reviews</th>\n",
              "      <th>Size</th>\n",
              "      <th>Installs</th>\n",
              "      <th>Type</th>\n",
              "      <th>Price</th>\n",
              "      <th>Content Rating</th>\n",
              "      <th>Genres</th>\n",
              "      <th>Last Updated</th>\n",
              "      <th>Current Ver</th>\n",
              "      <th>Android Ver</th>\n",
              "    </tr>\n",
              "  </thead>\n",
              "  <tbody>\n",
              "    <tr>\n",
              "      <th>4280</th>\n",
              "      <td>[substratum] Vacuum: P</td>\n",
              "      <td>PERSONALIZATION</td>\n",
              "      <td>4.4</td>\n",
              "      <td>230</td>\n",
              "      <td>11000.0</td>\n",
              "      <td>1,000+</td>\n",
              "      <td>Paid</td>\n",
              "      <td>$1.49</td>\n",
              "      <td>Everyone</td>\n",
              "      <td>Personalization</td>\n",
              "      <td>July 20, 2018</td>\n",
              "      <td>4.4</td>\n",
              "      <td>NaN</td>\n",
              "    </tr>\n",
              "    <tr>\n",
              "      <th>4308</th>\n",
              "      <td>Pi Dark [substratum]</td>\n",
              "      <td>PERSONALIZATION</td>\n",
              "      <td>4.5</td>\n",
              "      <td>189</td>\n",
              "      <td>2100.0</td>\n",
              "      <td>10,000+</td>\n",
              "      <td>Free</td>\n",
              "      <td>0</td>\n",
              "      <td>Everyone</td>\n",
              "      <td>Personalization</td>\n",
              "      <td>March 27, 2018</td>\n",
              "      <td>1.1</td>\n",
              "      <td>NaN</td>\n",
              "    </tr>\n",
              "  </tbody>\n",
              "</table>\n",
              "</div>"
            ],
            "text/plain": [
              "                         App         Category  ...  Current Ver Android Ver\n",
              "4280  [substratum] Vacuum: P  PERSONALIZATION  ...          4.4         NaN\n",
              "4308    Pi Dark [substratum]  PERSONALIZATION  ...          1.1         NaN\n",
              "\n",
              "[2 rows x 13 columns]"
            ]
          },
          "metadata": {
            "tags": []
          },
          "execution_count": 77
        }
      ]
    },
    {
      "cell_type": "code",
      "metadata": {
        "id": "W3OGAHGHLhRh",
        "colab_type": "code",
        "outputId": "ca4a9033-8180-4d0b-c4fb-e6880a33cf79",
        "colab": {
          "base_uri": "https://localhost:8080/",
          "height": 34
        }
      },
      "source": [
        "y.shape"
      ],
      "execution_count": 78,
      "outputs": [
        {
          "output_type": "execute_result",
          "data": {
            "text/plain": [
              "(9366, 13)"
            ]
          },
          "metadata": {
            "tags": []
          },
          "execution_count": 78
        }
      ]
    },
    {
      "cell_type": "code",
      "metadata": {
        "colab_type": "code",
        "id": "xiksuWZWyMpL",
        "outputId": "46a257e0-6f24-47d7-912e-4e07e318fcf0",
        "colab": {
          "base_uri": "https://localhost:8080/",
          "height": 112
        }
      },
      "source": [
        "y.mode()"
      ],
      "execution_count": 79,
      "outputs": [
        {
          "output_type": "execute_result",
          "data": {
            "text/html": [
              "<div>\n",
              "<style scoped>\n",
              "    .dataframe tbody tr th:only-of-type {\n",
              "        vertical-align: middle;\n",
              "    }\n",
              "\n",
              "    .dataframe tbody tr th {\n",
              "        vertical-align: top;\n",
              "    }\n",
              "\n",
              "    .dataframe thead th {\n",
              "        text-align: right;\n",
              "    }\n",
              "</style>\n",
              "<table border=\"1\" class=\"dataframe\">\n",
              "  <thead>\n",
              "    <tr style=\"text-align: right;\">\n",
              "      <th></th>\n",
              "      <th>App</th>\n",
              "      <th>Category</th>\n",
              "      <th>Rating</th>\n",
              "      <th>Reviews</th>\n",
              "      <th>Size</th>\n",
              "      <th>Installs</th>\n",
              "      <th>Type</th>\n",
              "      <th>Price</th>\n",
              "      <th>Content Rating</th>\n",
              "      <th>Genres</th>\n",
              "      <th>Last Updated</th>\n",
              "      <th>Current Ver</th>\n",
              "      <th>Android Ver</th>\n",
              "    </tr>\n",
              "  </thead>\n",
              "  <tbody>\n",
              "    <tr>\n",
              "      <th>0</th>\n",
              "      <td>ROBLOX</td>\n",
              "      <td>FAMILY</td>\n",
              "      <td>4.4</td>\n",
              "      <td>2</td>\n",
              "      <td>21516.529524</td>\n",
              "      <td>1,000,000+</td>\n",
              "      <td>Free</td>\n",
              "      <td>0</td>\n",
              "      <td>Everyone</td>\n",
              "      <td>Tools</td>\n",
              "      <td>August 3, 2018</td>\n",
              "      <td>Varies with device</td>\n",
              "      <td>4.1 and up</td>\n",
              "    </tr>\n",
              "  </tbody>\n",
              "</table>\n",
              "</div>"
            ],
            "text/plain": [
              "      App Category  Rating  ...    Last Updated         Current Ver Android Ver\n",
              "0  ROBLOX   FAMILY     4.4  ...  August 3, 2018  Varies with device  4.1 and up\n",
              "\n",
              "[1 rows x 13 columns]"
            ]
          },
          "metadata": {
            "tags": []
          },
          "execution_count": 79
        }
      ]
    },
    {
      "cell_type": "code",
      "metadata": {
        "id": "pB_FDJbwLhRm",
        "colab_type": "code",
        "outputId": "cd4643ce-e9cd-4f36-a466-9a9e9a9d2231",
        "colab": {
          "base_uri": "https://localhost:8080/",
          "height": 34
        }
      },
      "source": [
        "print(\"Checking for Null values in Android Ver is \",y['Android Ver'].isnull().sum())\n"
      ],
      "execution_count": 80,
      "outputs": [
        {
          "output_type": "stream",
          "text": [
            "Checking for Null values in Android Ver is  2\n"
          ],
          "name": "stdout"
        }
      ]
    },
    {
      "cell_type": "code",
      "metadata": {
        "colab_type": "code",
        "id": "zaYSaMC131eB",
        "outputId": "48943336-bea9-4f94-a7f0-06d259fa98d8",
        "colab": {
          "base_uri": "https://localhost:8080/",
          "height": 34
        }
      },
      "source": [
        "print(\"Replacing with mode\")\n",
        "y['Android Ver'].fillna(y['Android Ver'].mode()[0],inplace=True)\n"
      ],
      "execution_count": 81,
      "outputs": [
        {
          "output_type": "stream",
          "text": [
            "Replacing with mode\n"
          ],
          "name": "stdout"
        }
      ]
    },
    {
      "cell_type": "code",
      "metadata": {
        "colab_type": "code",
        "id": "W-osYUPt7RDM",
        "outputId": "0ba19198-511d-4d8f-9e46-e2e3af7efd66",
        "colab": {
          "base_uri": "https://localhost:8080/",
          "height": 34
        }
      },
      "source": [
        "print(\"Now there is no Null values now \",y['Android Ver'].isnull().sum())\n"
      ],
      "execution_count": 82,
      "outputs": [
        {
          "output_type": "stream",
          "text": [
            "Now there is no Null values now  0\n"
          ],
          "name": "stdout"
        }
      ]
    },
    {
      "cell_type": "code",
      "metadata": {
        "colab_type": "code",
        "id": "KDcOSgaH7tWS",
        "outputId": "92501597-24ff-4bf6-ed2b-0affaa726b09",
        "colab": {
          "base_uri": "https://localhost:8080/",
          "height": 305
        }
      },
      "source": [
        "print(\"Checking for null values in Current Ver\")\n",
        "c=pd.isnull(y['Current Ver'])\n",
        "y[c]"
      ],
      "execution_count": 83,
      "outputs": [
        {
          "output_type": "stream",
          "text": [
            "Checking for null values in Current Ver\n"
          ],
          "name": "stdout"
        },
        {
          "output_type": "execute_result",
          "data": {
            "text/html": [
              "<div>\n",
              "<style scoped>\n",
              "    .dataframe tbody tr th:only-of-type {\n",
              "        vertical-align: middle;\n",
              "    }\n",
              "\n",
              "    .dataframe tbody tr th {\n",
              "        vertical-align: top;\n",
              "    }\n",
              "\n",
              "    .dataframe thead th {\n",
              "        text-align: right;\n",
              "    }\n",
              "</style>\n",
              "<table border=\"1\" class=\"dataframe\">\n",
              "  <thead>\n",
              "    <tr style=\"text-align: right;\">\n",
              "      <th></th>\n",
              "      <th>App</th>\n",
              "      <th>Category</th>\n",
              "      <th>Rating</th>\n",
              "      <th>Reviews</th>\n",
              "      <th>Size</th>\n",
              "      <th>Installs</th>\n",
              "      <th>Type</th>\n",
              "      <th>Price</th>\n",
              "      <th>Content Rating</th>\n",
              "      <th>Genres</th>\n",
              "      <th>Last Updated</th>\n",
              "      <th>Current Ver</th>\n",
              "      <th>Android Ver</th>\n",
              "    </tr>\n",
              "  </thead>\n",
              "  <tbody>\n",
              "    <tr>\n",
              "      <th>15</th>\n",
              "      <td>Learn To Draw Kawaii Characters</td>\n",
              "      <td>ART_AND_DESIGN</td>\n",
              "      <td>3.2</td>\n",
              "      <td>55</td>\n",
              "      <td>2700.0</td>\n",
              "      <td>5,000+</td>\n",
              "      <td>Free</td>\n",
              "      <td>0</td>\n",
              "      <td>Everyone</td>\n",
              "      <td>Art &amp; Design</td>\n",
              "      <td>June 6, 2018</td>\n",
              "      <td>NaN</td>\n",
              "      <td>4.2 and up</td>\n",
              "    </tr>\n",
              "    <tr>\n",
              "      <th>1473</th>\n",
              "      <td>Market Update Helper</td>\n",
              "      <td>LIBRARIES_AND_DEMO</td>\n",
              "      <td>4.1</td>\n",
              "      <td>20145</td>\n",
              "      <td>11.0</td>\n",
              "      <td>1,000,000+</td>\n",
              "      <td>Free</td>\n",
              "      <td>0</td>\n",
              "      <td>Everyone</td>\n",
              "      <td>Libraries &amp; Demo</td>\n",
              "      <td>February 12, 2013</td>\n",
              "      <td>NaN</td>\n",
              "      <td>1.5 and up</td>\n",
              "    </tr>\n",
              "    <tr>\n",
              "      <th>5866</th>\n",
              "      <td>Virtual DJ Sound Mixer</td>\n",
              "      <td>TOOLS</td>\n",
              "      <td>4.2</td>\n",
              "      <td>4010</td>\n",
              "      <td>8700.0</td>\n",
              "      <td>500,000+</td>\n",
              "      <td>Free</td>\n",
              "      <td>0</td>\n",
              "      <td>Everyone</td>\n",
              "      <td>Tools</td>\n",
              "      <td>May 10, 2017</td>\n",
              "      <td>NaN</td>\n",
              "      <td>4.0 and up</td>\n",
              "    </tr>\n",
              "    <tr>\n",
              "      <th>6578</th>\n",
              "      <td>Dots puzzle</td>\n",
              "      <td>FAMILY</td>\n",
              "      <td>4.0</td>\n",
              "      <td>179</td>\n",
              "      <td>14000.0</td>\n",
              "      <td>50,000+</td>\n",
              "      <td>Paid</td>\n",
              "      <td>$0.99</td>\n",
              "      <td>Everyone</td>\n",
              "      <td>Puzzle</td>\n",
              "      <td>April 18, 2018</td>\n",
              "      <td>NaN</td>\n",
              "      <td>4.0 and up</td>\n",
              "    </tr>\n",
              "  </tbody>\n",
              "</table>\n",
              "</div>"
            ],
            "text/plain": [
              "                                  App  ... Android Ver\n",
              "15    Learn To Draw Kawaii Characters  ...  4.2 and up\n",
              "1473             Market Update Helper  ...  1.5 and up\n",
              "5866           Virtual DJ Sound Mixer  ...  4.0 and up\n",
              "6578                      Dots puzzle  ...  4.0 and up\n",
              "\n",
              "[4 rows x 13 columns]"
            ]
          },
          "metadata": {
            "tags": []
          },
          "execution_count": 83
        }
      ]
    },
    {
      "cell_type": "code",
      "metadata": {
        "colab_type": "code",
        "id": "HCLftkLY9JbS",
        "outputId": "fddcb311-555a-4950-dcb7-d0c18296a6b6",
        "colab": {
          "base_uri": "https://localhost:8080/",
          "height": 34
        }
      },
      "source": [
        "print(\"Converted nan values into mode of Current Ver\")\n",
        "\n",
        "y['Current Ver'].fillna(y['Current Ver'].mode()[0],inplace=True)\n",
        "\n"
      ],
      "execution_count": 84,
      "outputs": [
        {
          "output_type": "stream",
          "text": [
            "Converted nan values into mode of Current Ver\n"
          ],
          "name": "stdout"
        }
      ]
    },
    {
      "cell_type": "markdown",
      "metadata": {
        "colab_type": "text",
        "id": "8bPrjjHaBr2o"
      },
      "source": [
        "## 2 Data Clean Up ##\n",
        "\n"
      ]
    },
    {
      "cell_type": "markdown",
      "metadata": {
        "id": "_1ANPW3YLhRz",
        "colab_type": "text"
      },
      "source": [
        "__Which all variables need to be brought to numeric types?__"
      ]
    },
    {
      "cell_type": "code",
      "metadata": {
        "id": "SdA0jGA5LhR0",
        "colab_type": "code",
        "outputId": "edce06c8-3e08-4d36-f388-22af4503fad6",
        "colab": {
          "base_uri": "https://localhost:8080/",
          "height": 34
        }
      },
      "source": [
        "print(\" Review, Installs, Price columns can be Brought to Numeric\") "
      ],
      "execution_count": 85,
      "outputs": [
        {
          "output_type": "stream",
          "text": [
            " Review, Installs, Price columns can be Brought to Numeric\n"
          ],
          "name": "stdout"
        }
      ]
    },
    {
      "cell_type": "markdown",
      "metadata": {
        "id": "9Dyg9ji1LhR2",
        "colab_type": "text"
      },
      "source": [
        "__Price variable – remove $ sign and convert to float__"
      ]
    },
    {
      "cell_type": "code",
      "metadata": {
        "colab_type": "code",
        "id": "PIM8yU-q_FQA",
        "colab": {}
      },
      "source": [
        "y['Price'] = y['Price'].str.strip(\"$\")"
      ],
      "execution_count": 0,
      "outputs": []
    },
    {
      "cell_type": "code",
      "metadata": {
        "colab_type": "code",
        "id": "v5PkkKT8Hn8D",
        "outputId": "2aa49607-a986-4330-b575-0e40c9ccc210",
        "colab": {
          "base_uri": "https://localhost:8080/",
          "height": 130
        }
      },
      "source": [
        "print(\"Checking wheter $ Removed \")\n",
        "y.loc[y['App'] == '[substratum] Vacuum: P']\n"
      ],
      "execution_count": 87,
      "outputs": [
        {
          "output_type": "stream",
          "text": [
            "Checking wheter $ Removed \n"
          ],
          "name": "stdout"
        },
        {
          "output_type": "execute_result",
          "data": {
            "text/html": [
              "<div>\n",
              "<style scoped>\n",
              "    .dataframe tbody tr th:only-of-type {\n",
              "        vertical-align: middle;\n",
              "    }\n",
              "\n",
              "    .dataframe tbody tr th {\n",
              "        vertical-align: top;\n",
              "    }\n",
              "\n",
              "    .dataframe thead th {\n",
              "        text-align: right;\n",
              "    }\n",
              "</style>\n",
              "<table border=\"1\" class=\"dataframe\">\n",
              "  <thead>\n",
              "    <tr style=\"text-align: right;\">\n",
              "      <th></th>\n",
              "      <th>App</th>\n",
              "      <th>Category</th>\n",
              "      <th>Rating</th>\n",
              "      <th>Reviews</th>\n",
              "      <th>Size</th>\n",
              "      <th>Installs</th>\n",
              "      <th>Type</th>\n",
              "      <th>Price</th>\n",
              "      <th>Content Rating</th>\n",
              "      <th>Genres</th>\n",
              "      <th>Last Updated</th>\n",
              "      <th>Current Ver</th>\n",
              "      <th>Android Ver</th>\n",
              "    </tr>\n",
              "  </thead>\n",
              "  <tbody>\n",
              "    <tr>\n",
              "      <th>4280</th>\n",
              "      <td>[substratum] Vacuum: P</td>\n",
              "      <td>PERSONALIZATION</td>\n",
              "      <td>4.4</td>\n",
              "      <td>230</td>\n",
              "      <td>11000.0</td>\n",
              "      <td>1,000+</td>\n",
              "      <td>Paid</td>\n",
              "      <td>1.49</td>\n",
              "      <td>Everyone</td>\n",
              "      <td>Personalization</td>\n",
              "      <td>July 20, 2018</td>\n",
              "      <td>4.4</td>\n",
              "      <td>4.1 and up</td>\n",
              "    </tr>\n",
              "  </tbody>\n",
              "</table>\n",
              "</div>"
            ],
            "text/plain": [
              "                         App         Category  ...  Current Ver Android Ver\n",
              "4280  [substratum] Vacuum: P  PERSONALIZATION  ...          4.4  4.1 and up\n",
              "\n",
              "[1 rows x 13 columns]"
            ]
          },
          "metadata": {
            "tags": []
          },
          "execution_count": 87
        }
      ]
    },
    {
      "cell_type": "markdown",
      "metadata": {
        "id": "ndqPYt6bLhR8",
        "colab_type": "text"
      },
      "source": [
        "__c. Installs – remove ‘,’ and ‘+’ sign, convert to integer__\n"
      ]
    },
    {
      "cell_type": "code",
      "metadata": {
        "colab_type": "code",
        "id": "f95rfhRBngjQ",
        "colab": {}
      },
      "source": [
        "y['Installs'] = y['Installs'].str.replace('\\W',\"\")"
      ],
      "execution_count": 0,
      "outputs": []
    },
    {
      "cell_type": "code",
      "metadata": {
        "colab_type": "code",
        "id": "7_mK83hFMIVL",
        "outputId": "f8b19a7a-839f-42f8-8906-3ee165e9110b",
        "colab": {
          "base_uri": "https://localhost:8080/",
          "height": 130
        }
      },
      "source": [
        "print(\"Checking wheter + , Removed in Installs column\")\n",
        "y.loc[y['App'] == '[substratum] Vacuum: P']"
      ],
      "execution_count": 89,
      "outputs": [
        {
          "output_type": "stream",
          "text": [
            "Checking wheter + , Removed in Installs column\n"
          ],
          "name": "stdout"
        },
        {
          "output_type": "execute_result",
          "data": {
            "text/html": [
              "<div>\n",
              "<style scoped>\n",
              "    .dataframe tbody tr th:only-of-type {\n",
              "        vertical-align: middle;\n",
              "    }\n",
              "\n",
              "    .dataframe tbody tr th {\n",
              "        vertical-align: top;\n",
              "    }\n",
              "\n",
              "    .dataframe thead th {\n",
              "        text-align: right;\n",
              "    }\n",
              "</style>\n",
              "<table border=\"1\" class=\"dataframe\">\n",
              "  <thead>\n",
              "    <tr style=\"text-align: right;\">\n",
              "      <th></th>\n",
              "      <th>App</th>\n",
              "      <th>Category</th>\n",
              "      <th>Rating</th>\n",
              "      <th>Reviews</th>\n",
              "      <th>Size</th>\n",
              "      <th>Installs</th>\n",
              "      <th>Type</th>\n",
              "      <th>Price</th>\n",
              "      <th>Content Rating</th>\n",
              "      <th>Genres</th>\n",
              "      <th>Last Updated</th>\n",
              "      <th>Current Ver</th>\n",
              "      <th>Android Ver</th>\n",
              "    </tr>\n",
              "  </thead>\n",
              "  <tbody>\n",
              "    <tr>\n",
              "      <th>4280</th>\n",
              "      <td>[substratum] Vacuum: P</td>\n",
              "      <td>PERSONALIZATION</td>\n",
              "      <td>4.4</td>\n",
              "      <td>230</td>\n",
              "      <td>11000.0</td>\n",
              "      <td>1000</td>\n",
              "      <td>Paid</td>\n",
              "      <td>1.49</td>\n",
              "      <td>Everyone</td>\n",
              "      <td>Personalization</td>\n",
              "      <td>July 20, 2018</td>\n",
              "      <td>4.4</td>\n",
              "      <td>4.1 and up</td>\n",
              "    </tr>\n",
              "  </tbody>\n",
              "</table>\n",
              "</div>"
            ],
            "text/plain": [
              "                         App         Category  ...  Current Ver Android Ver\n",
              "4280  [substratum] Vacuum: P  PERSONALIZATION  ...          4.4  4.1 and up\n",
              "\n",
              "[1 rows x 13 columns]"
            ]
          },
          "metadata": {
            "tags": []
          },
          "execution_count": 89
        }
      ]
    },
    {
      "cell_type": "markdown",
      "metadata": {
        "id": "PllVBQQJLhSC",
        "colab_type": "text"
      },
      "source": [
        "__Convert all Identified Column to Numeric__\n",
        "\n"
      ]
    },
    {
      "cell_type": "code",
      "metadata": {
        "id": "Xeq1yysyLhSC",
        "colab_type": "code",
        "outputId": "86ff615d-f1e6-4777-f26e-675bbb6551f8",
        "colab": {
          "base_uri": "https://localhost:8080/",
          "height": 280
        }
      },
      "source": [
        "y['Price']=pd.to_numeric(y['Price'],errors='coerce')\n",
        "y[['Reviews','Size']]=y[['Reviews','Size']].apply(pd.to_numeric,downcast='integer')\n",
        "print(\"Converted required columns to Numeric\")\n",
        "y.dtypes\n",
        "\n",
        "\n"
      ],
      "execution_count": 90,
      "outputs": [
        {
          "output_type": "stream",
          "text": [
            "Converted required columns to Numeric\n"
          ],
          "name": "stdout"
        },
        {
          "output_type": "execute_result",
          "data": {
            "text/plain": [
              "App                object\n",
              "Category           object\n",
              "Rating            float64\n",
              "Reviews             int32\n",
              "Size              float64\n",
              "Installs           object\n",
              "Type               object\n",
              "Price             float64\n",
              "Content Rating     object\n",
              "Genres             object\n",
              "Last Updated       object\n",
              "Current Ver        object\n",
              "Android Ver        object\n",
              "dtype: object"
            ]
          },
          "metadata": {
            "tags": []
          },
          "execution_count": 90
        }
      ]
    },
    {
      "cell_type": "markdown",
      "metadata": {
        "id": "BVlls4IpLhSE",
        "colab_type": "text"
      },
      "source": [
        "__3 Task__\n",
        "\n",
        "\n",
        "__Avg rating should be betwwen 1 and 5 as only these values are allowed on the play store__"
      ]
    },
    {
      "cell_type": "code",
      "metadata": {
        "id": "HJ6auPJFLhSF",
        "colab_type": "code",
        "outputId": "a053ec9b-502a-452c-ae4c-9cd89056f26f",
        "colab": {
          "base_uri": "https://localhost:8080/",
          "height": 245
        }
      },
      "source": [
        "y=y[y['Rating'].between(1,5)]\n",
        "print(\"As there is value between (1,5)\\n\",y[\"Rating\"])\n",
        "\n"
      ],
      "execution_count": 91,
      "outputs": [
        {
          "output_type": "stream",
          "text": [
            "As there is value between (1,5)\n",
            " 0       4.1\n",
            "1       3.9\n",
            "2       4.7\n",
            "3       4.5\n",
            "4       4.3\n",
            "       ... \n",
            "9362    4.0\n",
            "9363    4.5\n",
            "9364    5.0\n",
            "9365    4.5\n",
            "9366    4.5\n",
            "Name: Rating, Length: 9366, dtype: float64\n"
          ],
          "name": "stdout"
        }
      ]
    },
    {
      "cell_type": "markdown",
      "metadata": {
        "id": "7ymOLpi8LhSH",
        "colab_type": "text"
      },
      "source": [
        "__Reviews Should not be more than installs as only those who installed can review the app__\n",
        "\n",
        "\n",
        "__i. Are there any such records? Drop if so__"
      ]
    },
    {
      "cell_type": "code",
      "metadata": {
        "id": "tyli1GeZLhSI",
        "colab_type": "code",
        "outputId": "bd11530b-7b4b-4baf-a2b2-4066c340113e",
        "colab": {
          "base_uri": "https://localhost:8080/",
          "height": 263
        }
      },
      "source": [
        "y['Installs']=y['Installs'].apply(pd.to_numeric,downcast='integer')\n",
        "\n",
        "y=y[y['Reviews']<y['Installs']]\n",
        "print(y[['App','Reviews','Installs']])\n"
      ],
      "execution_count": 92,
      "outputs": [
        {
          "output_type": "stream",
          "text": [
            "                                                    App  Reviews  Installs\n",
            "0        Photo Editor & Candy Camera & Grid & ScrapBook      159     10000\n",
            "1                                   Coloring book moana      967    500000\n",
            "2     U Launcher Lite – FREE Live Cool Themes, Hide ...    87510   5000000\n",
            "3                                 Sketch - Draw & Paint   215644  50000000\n",
            "4                 Pixel Draw - Number Art Coloring Book      967    100000\n",
            "...                                                 ...      ...       ...\n",
            "9362                                      FR Calculator        7       500\n",
            "9363                                   Sya9a Maroc - FR       38      5000\n",
            "9364                   Fr. Mike Schmitz Audio Teachings        4       100\n",
            "9365                      The SCP Foundation DB fr nn5n      114      1000\n",
            "9366      iHoroscope - 2018 Daily Horoscope & Astrology   398307  10000000\n",
            "\n",
            "[9357 rows x 3 columns]\n"
          ],
          "name": "stdout"
        }
      ]
    },
    {
      "cell_type": "markdown",
      "metadata": {
        "id": "eqEdbFKXLhSK",
        "colab_type": "text"
      },
      "source": [
        "__4. Identify and handle outliers__\n",
        "\n",
        "__Price Column__\n",
        "\n",
        "__i. Make suitable plot to identify outliers in price__\n"
      ]
    },
    {
      "cell_type": "code",
      "metadata": {
        "colab_type": "code",
        "id": "4x8PPxNUnj2B",
        "outputId": "545529c7-5dcf-431f-ca2f-7ce1fac8d166",
        "colab": {
          "base_uri": "https://localhost:8080/",
          "height": 303
        }
      },
      "source": [
        "print(\"Ploting Boxplot graph for Price column\")\n",
        "\n",
        "plt.boxplot(y['Price'].value_counts())\n",
        "plt.show"
      ],
      "execution_count": 93,
      "outputs": [
        {
          "output_type": "stream",
          "text": [
            "Ploting Boxplot graph for Price column\n"
          ],
          "name": "stdout"
        },
        {
          "output_type": "execute_result",
          "data": {
            "text/plain": [
              "<function matplotlib.pyplot.show>"
            ]
          },
          "metadata": {
            "tags": []
          },
          "execution_count": 93
        },
        {
          "output_type": "display_data",
          "data": {
            "image/png": "[encoded data removed]",
            "text/plain": [
              "<Figure size 432x288 with 1 Axes>"
            ]
          },
          "metadata": {
            "tags": [],
            "needs_background": "light"
          }
        }
      ]
    },
    {
      "cell_type": "markdown",
      "metadata": {
        "id": "WwCGmUZjLhSN",
        "colab_type": "text"
      },
      "source": [
        "__ii. Do you expect apps on the play store to cost $200? Check out these cases__\n"
      ]
    },
    {
      "cell_type": "code",
      "metadata": {
        "colab_type": "code",
        "id": "1V3Tcdgyn4ns",
        "outputId": "6ab4f6e1-7670-4d78-deb4-5b729e1d5fd1",
        "colab": {
          "base_uri": "https://localhost:8080/",
          "height": 140
        }
      },
      "source": [
        "y=y[y['Price']<200]\n",
        "print(y['Price'].unique())\n",
        "print('Now the Price is less than $200')\n",
        "\n"
      ],
      "execution_count": 94,
      "outputs": [
        {
          "output_type": "stream",
          "text": [
            "[ 0.    4.99  3.99  6.99  7.99  5.99  2.99  3.49  1.99  9.99  7.49  0.99\n",
            "  9.    5.49 10.   24.99 11.99 79.99 16.99 14.99 29.99 12.99  2.49 10.99\n",
            "  1.5  19.99 15.99 33.99 39.99  3.95  4.49  1.7   8.99  1.49  3.88 17.99\n",
            "  3.02  1.76  4.84  4.77  1.61  2.5   1.59  6.49  1.29 37.99 18.99  8.49\n",
            "  1.75 14.    2.    3.08  2.59 19.4   3.9   4.59 15.46  3.04 13.99  4.29\n",
            "  3.28  4.6   1.    2.95  2.9   1.97  2.56  1.2 ]\n",
            "Now the Price is less than $200\n"
          ],
          "name": "stdout"
        }
      ]
    },
    {
      "cell_type": "markdown",
      "metadata": {
        "id": "GudvH0z3LhSQ",
        "colab_type": "text"
      },
      "source": [
        "__After dropping the useless records, make the suitable plot again to identify\n",
        "outliers__"
      ]
    },
    {
      "cell_type": "code",
      "metadata": {
        "id": "K5hLj6XBLhSQ",
        "colab_type": "code",
        "outputId": "b68f9781-68b8-4f2a-d3f3-c8747cad4dfd",
        "colab": {
          "base_uri": "https://localhost:8080/",
          "height": 285
        }
      },
      "source": [
        "y.boxplot(column=\"Price\")"
      ],
      "execution_count": 95,
      "outputs": [
        {
          "output_type": "execute_result",
          "data": {
            "text/plain": [
              "<matplotlib.axes._subplots.AxesSubplot at 0x7f7995249f28>"
            ]
          },
          "metadata": {
            "tags": []
          },
          "execution_count": 95
        },
        {
          "output_type": "display_data",
          "data": {
            "image/png": "[encoded data removed]",
            "text/plain": [
              "<Figure size 432x288 with 1 Axes>"
            ]
          },
          "metadata": {
            "tags": [],
            "needs_background": "light"
          }
        }
      ]
    },
    {
      "cell_type": "markdown",
      "metadata": {
        "id": "s70xsy3ULhSS",
        "colab_type": "text"
      },
      "source": [
        "__iii. After dropping the useless records, make the suitable plot again to identify\n",
        "outliers__"
      ]
    },
    {
      "cell_type": "code",
      "metadata": {
        "colab_type": "code",
        "id": "iSOEPHxNzk7W",
        "outputId": "76272696-e1e9-4381-d9fe-95c3db03ecc4",
        "colab": {
          "base_uri": "https://localhost:8080/",
          "height": 296
        }
      },
      "source": [
        "# Make suitable plot\n",
        "\n",
        "y['Reviews'].plot(kind='line')"
      ],
      "execution_count": 96,
      "outputs": [
        {
          "output_type": "execute_result",
          "data": {
            "text/plain": [
              "<matplotlib.axes._subplots.AxesSubplot at 0x7f79952e5828>"
            ]
          },
          "metadata": {
            "tags": []
          },
          "execution_count": 96
        },
        {
          "output_type": "display_data",
          "data": {
            "image/png": "[encoded data removed]",
            "text/plain": [
              "<Figure size 432x288 with 1 Axes>"
            ]
          },
          "metadata": {
            "tags": [],
            "needs_background": "light"
          }
        }
      ]
    },
    {
      "cell_type": "markdown",
      "metadata": {
        "id": "HUkBhRmlLhSV",
        "colab_type": "text"
      },
      "source": [
        "__iv. Limit data to records with price < $30__\n"
      ]
    },
    {
      "cell_type": "code",
      "metadata": {
        "id": "N3Lg2tv4LhSV",
        "colab_type": "code",
        "outputId": "a1d737bc-1436-43b2-bba9-69327483b3ff",
        "colab": {
          "base_uri": "https://localhost:8080/",
          "height": 140
        }
      },
      "source": [
        "y=y[y['Price']<30]\n",
        "print(y['Price'].unique())\n",
        "print('Now the Price is less than $30')\n",
        "\n"
      ],
      "execution_count": 97,
      "outputs": [
        {
          "output_type": "stream",
          "text": [
            "[ 0.    4.99  3.99  6.99  7.99  5.99  2.99  3.49  1.99  9.99  7.49  0.99\n",
            "  9.    5.49 10.   24.99 11.99 16.99 14.99 29.99 12.99  2.49 10.99  1.5\n",
            " 19.99 15.99  3.95  4.49  1.7   8.99  1.49  3.88 17.99  3.02  1.76  4.84\n",
            "  4.77  1.61  2.5   1.59  6.49  1.29 18.99  8.49  1.75 14.    2.    3.08\n",
            "  2.59 19.4   3.9   4.59 15.46  3.04 13.99  4.29  3.28  4.6   1.    2.95\n",
            "  2.9   1.97  2.56  1.2 ]\n",
            "Now the Price is less than $30\n"
          ],
          "name": "stdout"
        }
      ]
    },
    {
      "cell_type": "markdown",
      "metadata": {
        "id": "2VSoHQVULhSX",
        "colab_type": "text"
      },
      "source": [
        "__ii. Limit data to apps with < 1 Million reviews__"
      ]
    },
    {
      "cell_type": "code",
      "metadata": {
        "colab_type": "code",
        "id": "Plym3WG41dO5",
        "outputId": "22d6db41-f907-40eb-b0b1-b1be15ca9254",
        "colab": {
          "base_uri": "https://localhost:8080/",
          "height": 34
        }
      },
      "source": [
        "y[['Reviews']]=y[['Reviews']].apply(pd.to_numeric,downcast='integer')\n",
        "\n",
        "y=y[y['Reviews']<1000000]\n",
        "y['Reviews'].unique()\n",
        "\n"
      ],
      "execution_count": 98,
      "outputs": [
        {
          "output_type": "execute_result",
          "data": {
            "text/plain": [
              "array([   159,    967,  87510, ...,    603,   1195, 398307], dtype=int32)"
            ]
          },
          "metadata": {
            "tags": []
          },
          "execution_count": 98
        }
      ]
    },
    {
      "cell_type": "markdown",
      "metadata": {
        "id": "FREcrbM0LhSa",
        "colab_type": "text"
      },
      "source": [
        "__c. Installs__\n",
        "\n",
        "__i. What is the 95th percentile of the installs?__"
      ]
    },
    {
      "cell_type": "code",
      "metadata": {
        "colab_type": "code",
        "id": "4aS43pJO2tBO",
        "outputId": "2d1db7eb-c3f0-46c0-c14a-57c2faafcc5a",
        "colab": {
          "base_uri": "https://localhost:8080/",
          "height": 34
        }
      },
      "source": [
        "#  Percentile of Installs Column\n",
        "\n",
        "p_I=y['Installs'].quantile(.95)\n",
        "print(\"95Percentile of Installs column is \",p_I)\n"
      ],
      "execution_count": 99,
      "outputs": [
        {
          "output_type": "stream",
          "text": [
            "95Percentile of Installs column is  10000000.0\n"
          ],
          "name": "stdout"
        }
      ]
    },
    {
      "cell_type": "code",
      "metadata": {
        "id": "n2ibMtsSLhSd",
        "colab_type": "code",
        "outputId": "31d4554d-540b-4f36-9e82-be59b63736be",
        "colab": {
          "base_uri": "https://localhost:8080/",
          "height": 34
        }
      },
      "source": [
        "y.shape"
      ],
      "execution_count": 100,
      "outputs": [
        {
          "output_type": "execute_result",
          "data": {
            "text/plain": [
              "(8632, 13)"
            ]
          },
          "metadata": {
            "tags": []
          },
          "execution_count": 100
        }
      ]
    },
    {
      "cell_type": "markdown",
      "metadata": {
        "id": "c5_9YxtULhSf",
        "colab_type": "text"
      },
      "source": [
        "__Drop records having a value more than the 95th percentile__\n",
        "\n"
      ]
    },
    {
      "cell_type": "code",
      "metadata": {
        "colab_type": "code",
        "id": "Iv_xcf6b483-",
        "outputId": "38ccf4d7-0d78-41ac-d7ac-36208db85f1f",
        "colab": {
          "base_uri": "https://localhost:8080/",
          "height": 34
        }
      },
      "source": [
        "#y['Installs']=y['Installs'].apply(pd.to_numeric,errors='coerce')\n",
        "\n",
        "#y.Installs.quantile(0.95)\n",
        "y=y[y['Installs']<p_I]\n",
        "y.shape\n"
      ],
      "execution_count": 101,
      "outputs": [
        {
          "output_type": "execute_result",
          "data": {
            "text/plain": [
              "(7256, 13)"
            ]
          },
          "metadata": {
            "tags": []
          },
          "execution_count": 101
        }
      ]
    },
    {
      "cell_type": "code",
      "metadata": {
        "colab_type": "code",
        "id": "4hscxGeg1mb5",
        "outputId": "d77eee62-5a73-4c37-b574-cc1ef4b91f01",
        "colab": {
          "base_uri": "https://localhost:8080/",
          "height": 52
        }
      },
      "source": [
        "y['Installs'].unique()\n"
      ],
      "execution_count": 102,
      "outputs": [
        {
          "output_type": "execute_result",
          "data": {
            "text/plain": [
              "array([  10000,  500000, 5000000,  100000,   50000, 1000000,    5000,\n",
              "          1000,     100,     500,      10,       5,      50])"
            ]
          },
          "metadata": {
            "tags": []
          },
          "execution_count": 102
        }
      ]
    },
    {
      "cell_type": "code",
      "metadata": {
        "id": "uB1bPt52LhSj",
        "colab_type": "code",
        "colab": {}
      },
      "source": [
        "y = y.reset_index(drop=True)"
      ],
      "execution_count": 0,
      "outputs": []
    },
    {
      "cell_type": "markdown",
      "metadata": {
        "id": "E8ZTH6EULhSl",
        "colab_type": "text"
      },
      "source": [
        "# Data analysis to answer business questions"
      ]
    },
    {
      "cell_type": "markdown",
      "metadata": {
        "id": "vl_qv2wxLhSm",
        "colab_type": "text"
      },
      "source": [
        "__5. What is the distribution of ratings like? (use Seaborn) More skewed towards higher/lower\n",
        "values?__\n"
      ]
    },
    {
      "cell_type": "code",
      "metadata": {
        "id": "aIOJGFACLhSm",
        "colab_type": "code",
        "outputId": "15e7ff3f-7adf-4d97-c854-adff58da5bc5",
        "colab": {
          "base_uri": "https://localhost:8080/",
          "height": 446
        }
      },
      "source": [
        "import matplotlib.pyplot as plt\n",
        "import seaborn as sns\n",
        "sns.set(color_codes=True)\n",
        "plt.subplots(figsize=(15,6))\n",
        "sns.distplot(y[\"Rating\"], hist=False, rug=True)\n",
        "y[\"Rating\"].unique()\n"
      ],
      "execution_count": 104,
      "outputs": [
        {
          "output_type": "execute_result",
          "data": {
            "text/plain": [
              "array([4.1, 3.9, 4.7, 4.3, 4.4, 3.8, 4.6, 3.2, 4.5, 4. , 4.8, 4.2, 4.9,\n",
              "       3.6, 3.7, 3.3, 3.4, 3.5, 3.1, 5. , 2.6, 3. , 1.9, 2.5, 2.8, 2.7,\n",
              "       1. , 2.9, 2.3, 2.2, 1.7, 2. , 1.8, 2.4, 1.6, 2.1, 1.4, 1.5, 1.2])"
            ]
          },
          "metadata": {
            "tags": []
          },
          "execution_count": 104
        },
        {
          "output_type": "display_data",
          "data": {
            "image/png": "[encoded data removed]",
            "text/plain": [
              "<Figure size 1080x432 with 1 Axes>"
            ]
          },
          "metadata": {
            "tags": []
          }
        }
      ]
    },
    {
      "cell_type": "markdown",
      "metadata": {
        "id": "5_9q9w-CLhSp",
        "colab_type": "text"
      },
      "source": [
        "__a. How do you explain this?__\n",
        "\n",
        ">__As Shown in Above Graph most of the User rated the App within 4.2 to 4.6 rating Compared with (1,5) Rating Size__"
      ]
    },
    {
      "cell_type": "markdown",
      "metadata": {
        "id": "dVOUixIJLhSp",
        "colab_type": "text"
      },
      "source": [
        "__b. What is the implication of this on your analysis?__\n",
        ">__Most of the App which comes under Rating 4.2 to 4.6 has good Customer Reviews & Others which are less than 4.2 must Improve their App.__"
      ]
    },
    {
      "cell_type": "code",
      "metadata": {
        "id": "bVpnEssDLhSp",
        "colab_type": "code",
        "outputId": "15eed153-a114-4ffb-81af-7d8547710b2b",
        "colab": {
          "base_uri": "https://localhost:8080/",
          "height": 175
        }
      },
      "source": [
        "y['Category'].unique()"
      ],
      "execution_count": 105,
      "outputs": [
        {
          "output_type": "execute_result",
          "data": {
            "text/plain": [
              "array(['ART_AND_DESIGN', 'AUTO_AND_VEHICLES', 'BEAUTY',\n",
              "       'BOOKS_AND_REFERENCE', 'BUSINESS', 'COMICS', 'COMMUNICATION',\n",
              "       'DATING', 'EDUCATION', 'ENTERTAINMENT', 'EVENTS', 'FINANCE',\n",
              "       'FOOD_AND_DRINK', 'HEALTH_AND_FITNESS', 'HOUSE_AND_HOME',\n",
              "       'LIBRARIES_AND_DEMO', 'LIFESTYLE', 'GAME', 'FAMILY', 'MEDICAL',\n",
              "       'SOCIAL', 'SHOPPING', 'PHOTOGRAPHY', 'SPORTS', 'TRAVEL_AND_LOCAL',\n",
              "       'TOOLS', 'PERSONALIZATION', 'PRODUCTIVITY', 'PARENTING', 'WEATHER',\n",
              "       'VIDEO_PLAYERS', 'NEWS_AND_MAGAZINES', 'MAPS_AND_NAVIGATION'],\n",
              "      dtype=object)"
            ]
          },
          "metadata": {
            "tags": []
          },
          "execution_count": 105
        }
      ]
    },
    {
      "cell_type": "code",
      "metadata": {
        "id": "qEeAZPfxLhSs",
        "colab_type": "code",
        "outputId": "ad177e31-43ae-4a71-955e-56b4b42f664e",
        "colab": {
          "base_uri": "https://localhost:8080/",
          "height": 420
        }
      },
      "source": [
        "y.head()"
      ],
      "execution_count": 106,
      "outputs": [
        {
          "output_type": "execute_result",
          "data": {
            "text/html": [
              "<div>\n",
              "<style scoped>\n",
              "    .dataframe tbody tr th:only-of-type {\n",
              "        vertical-align: middle;\n",
              "    }\n",
              "\n",
              "    .dataframe tbody tr th {\n",
              "        vertical-align: top;\n",
              "    }\n",
              "\n",
              "    .dataframe thead th {\n",
              "        text-align: right;\n",
              "    }\n",
              "</style>\n",
              "<table border=\"1\" class=\"dataframe\">\n",
              "  <thead>\n",
              "    <tr style=\"text-align: right;\">\n",
              "      <th></th>\n",
              "      <th>App</th>\n",
              "      <th>Category</th>\n",
              "      <th>Rating</th>\n",
              "      <th>Reviews</th>\n",
              "      <th>Size</th>\n",
              "      <th>Installs</th>\n",
              "      <th>Type</th>\n",
              "      <th>Price</th>\n",
              "      <th>Content Rating</th>\n",
              "      <th>Genres</th>\n",
              "      <th>Last Updated</th>\n",
              "      <th>Current Ver</th>\n",
              "      <th>Android Ver</th>\n",
              "    </tr>\n",
              "  </thead>\n",
              "  <tbody>\n",
              "    <tr>\n",
              "      <th>0</th>\n",
              "      <td>Photo Editor &amp; Candy Camera &amp; Grid &amp; ScrapBook</td>\n",
              "      <td>ART_AND_DESIGN</td>\n",
              "      <td>4.1</td>\n",
              "      <td>159</td>\n",
              "      <td>19000.0</td>\n",
              "      <td>10000</td>\n",
              "      <td>Free</td>\n",
              "      <td>0.0</td>\n",
              "      <td>Everyone</td>\n",
              "      <td>Art &amp; Design</td>\n",
              "      <td>January 7, 2018</td>\n",
              "      <td>1.0.0</td>\n",
              "      <td>4.0.3 and up</td>\n",
              "    </tr>\n",
              "    <tr>\n",
              "      <th>1</th>\n",
              "      <td>Coloring book moana</td>\n",
              "      <td>ART_AND_DESIGN</td>\n",
              "      <td>3.9</td>\n",
              "      <td>967</td>\n",
              "      <td>14000.0</td>\n",
              "      <td>500000</td>\n",
              "      <td>Free</td>\n",
              "      <td>0.0</td>\n",
              "      <td>Everyone</td>\n",
              "      <td>Art &amp; Design;Pretend Play</td>\n",
              "      <td>January 15, 2018</td>\n",
              "      <td>2.0.0</td>\n",
              "      <td>4.0.3 and up</td>\n",
              "    </tr>\n",
              "    <tr>\n",
              "      <th>2</th>\n",
              "      <td>U Launcher Lite – FREE Live Cool Themes, Hide ...</td>\n",
              "      <td>ART_AND_DESIGN</td>\n",
              "      <td>4.7</td>\n",
              "      <td>87510</td>\n",
              "      <td>8700.0</td>\n",
              "      <td>5000000</td>\n",
              "      <td>Free</td>\n",
              "      <td>0.0</td>\n",
              "      <td>Everyone</td>\n",
              "      <td>Art &amp; Design</td>\n",
              "      <td>August 1, 2018</td>\n",
              "      <td>1.2.4</td>\n",
              "      <td>4.0.3 and up</td>\n",
              "    </tr>\n",
              "    <tr>\n",
              "      <th>3</th>\n",
              "      <td>Pixel Draw - Number Art Coloring Book</td>\n",
              "      <td>ART_AND_DESIGN</td>\n",
              "      <td>4.3</td>\n",
              "      <td>967</td>\n",
              "      <td>2800.0</td>\n",
              "      <td>100000</td>\n",
              "      <td>Free</td>\n",
              "      <td>0.0</td>\n",
              "      <td>Everyone</td>\n",
              "      <td>Art &amp; Design;Creativity</td>\n",
              "      <td>June 20, 2018</td>\n",
              "      <td>1.1</td>\n",
              "      <td>4.4 and up</td>\n",
              "    </tr>\n",
              "    <tr>\n",
              "      <th>4</th>\n",
              "      <td>Paper flowers instructions</td>\n",
              "      <td>ART_AND_DESIGN</td>\n",
              "      <td>4.4</td>\n",
              "      <td>167</td>\n",
              "      <td>5600.0</td>\n",
              "      <td>50000</td>\n",
              "      <td>Free</td>\n",
              "      <td>0.0</td>\n",
              "      <td>Everyone</td>\n",
              "      <td>Art &amp; Design</td>\n",
              "      <td>March 26, 2017</td>\n",
              "      <td>1.0</td>\n",
              "      <td>2.3 and up</td>\n",
              "    </tr>\n",
              "  </tbody>\n",
              "</table>\n",
              "</div>"
            ],
            "text/plain": [
              "                                                 App  ...   Android Ver\n",
              "0     Photo Editor & Candy Camera & Grid & ScrapBook  ...  4.0.3 and up\n",
              "1                                Coloring book moana  ...  4.0.3 and up\n",
              "2  U Launcher Lite – FREE Live Cool Themes, Hide ...  ...  4.0.3 and up\n",
              "3              Pixel Draw - Number Art Coloring Book  ...    4.4 and up\n",
              "4                         Paper flowers instructions  ...    2.3 and up\n",
              "\n",
              "[5 rows x 13 columns]"
            ]
          },
          "metadata": {
            "tags": []
          },
          "execution_count": 106
        }
      ]
    },
    {
      "cell_type": "markdown",
      "metadata": {
        "id": "WETouhrvLhSu",
        "colab_type": "text"
      },
      "source": [
        "__6. What are the top Content Rating values?__"
      ]
    },
    {
      "cell_type": "code",
      "metadata": {
        "id": "4_pJ6i09LhSu",
        "colab_type": "code",
        "outputId": "b9cd19a3-9da2-4a8e-bab5-fb958b285314",
        "colab": {
          "base_uri": "https://localhost:8080/",
          "height": 140
        }
      },
      "source": [
        "y['Content Rating'].value_counts()"
      ],
      "execution_count": 107,
      "outputs": [
        {
          "output_type": "execute_result",
          "data": {
            "text/plain": [
              "Everyone           5911\n",
              "Teen                746\n",
              "Mature 17+          346\n",
              "Everyone 10+        249\n",
              "Adults only 18+       3\n",
              "Unrated               1\n",
              "Name: Content Rating, dtype: int64"
            ]
          },
          "metadata": {
            "tags": []
          },
          "execution_count": 107
        }
      ]
    },
    {
      "cell_type": "markdown",
      "metadata": {
        "id": "LawXJpIQLhSw",
        "colab_type": "text"
      },
      "source": [
        "__a. Are there any values with very few records?__\n",
        ">__Yes there are recors with few Values Example:- (Adults only 18+ :3) ,(Unrated: 1)__\n"
      ]
    },
    {
      "cell_type": "markdown",
      "metadata": {
        "id": "XqamQNMtLhSx",
        "colab_type": "text"
      },
      "source": [
        "__b. If yes, drop those as they won’t help in the analysis__"
      ]
    },
    {
      "cell_type": "code",
      "metadata": {
        "id": "zxCm-l_dLhSx",
        "colab_type": "code",
        "colab": {}
      },
      "source": [
        "y.drop(y[y['Content Rating']==(\"Adults only 18+\")].index, inplace = True)\n",
        "y.drop(y[y['Content Rating']==(\"Unrated\")].index, inplace = True)"
      ],
      "execution_count": 0,
      "outputs": []
    },
    {
      "cell_type": "code",
      "metadata": {
        "id": "rrm0yNA0LhS1",
        "colab_type": "code",
        "outputId": "fe04c12e-4d81-4289-9d6e-bb2c75d3eade",
        "colab": {
          "base_uri": "https://localhost:8080/",
          "height": 105
        }
      },
      "source": [
        "y['Content Rating'].value_counts()"
      ],
      "execution_count": 109,
      "outputs": [
        {
          "output_type": "execute_result",
          "data": {
            "text/plain": [
              "Everyone        5911\n",
              "Teen             746\n",
              "Mature 17+       346\n",
              "Everyone 10+     249\n",
              "Name: Content Rating, dtype: int64"
            ]
          },
          "metadata": {
            "tags": []
          },
          "execution_count": 109
        }
      ]
    },
    {
      "cell_type": "markdown",
      "metadata": {
        "id": "WycqaK_wLhS4",
        "colab_type": "text"
      },
      "source": [
        "__Now the \"Adults only 18+\" , \"Unrated\" Rows has been Removed__"
      ]
    },
    {
      "cell_type": "code",
      "metadata": {
        "id": "YlhR6AMQLhS4",
        "colab_type": "code",
        "outputId": "1d53ba81-6abb-43ff-b659-29df678885b0",
        "colab": {
          "base_uri": "https://localhost:8080/",
          "height": 34
        }
      },
      "source": [
        "y = y.reset_index(drop=True)\n",
        "y.shape"
      ],
      "execution_count": 110,
      "outputs": [
        {
          "output_type": "execute_result",
          "data": {
            "text/plain": [
              "(7252, 13)"
            ]
          },
          "metadata": {
            "tags": []
          },
          "execution_count": 110
        }
      ]
    },
    {
      "cell_type": "markdown",
      "metadata": {
        "id": "uCPrNGT2LhS6",
        "colab_type": "text"
      },
      "source": [
        "## 7. Effect of size on rating\n",
        "__a. Make a joinplot to understand the effect of size on rating__"
      ]
    },
    {
      "cell_type": "code",
      "metadata": {
        "id": "pSJW9zHVLhS6",
        "colab_type": "code",
        "outputId": "81295e57-5e6f-4405-e2f3-e88bd1feceb3",
        "colab": {
          "base_uri": "https://localhost:8080/",
          "height": 526
        }
      },
      "source": [
        "plt.figure(figsize=(70,5))\n",
        "sns.jointplot(\"Size\", \"Rating\", data=y, kind=\"hex\",height=7);"
      ],
      "execution_count": 111,
      "outputs": [
        {
          "output_type": "display_data",
          "data": {
            "text/plain": [
              "<Figure size 5040x360 with 0 Axes>"
            ]
          },
          "metadata": {
            "tags": []
          }
        },
        {
          "output_type": "display_data",
          "data": {
            "image/png": "[encoded data removed]",
            "text/plain": [
              "<Figure size 504x504 with 3 Axes>"
            ]
          },
          "metadata": {
            "tags": []
          }
        }
      ]
    },
    {
      "cell_type": "markdown",
      "metadata": {
        "id": "s5U8Yz0zLhS9",
        "colab_type": "text"
      },
      "source": [
        "__b. Do you see any patterns?__\n",
        "\n",
        ">__Yes there are some Patterns__\n",
        "\n",
        "__c. How do you explain the pattern?__\n",
        "\n",
        ">__Starting from Range ( 200 to 3000 )Size of App Customer Rate App with 4.0 to 5 and the App Size 20000 Most or More of People Rate App with 4.0 to 4.5__\n"
      ]
    },
    {
      "cell_type": "code",
      "metadata": {
        "id": "5q0x3fY3LhS-",
        "colab_type": "code",
        "outputId": "3ad8420f-cfe2-4421-b677-bbc291097e6e",
        "colab": {
          "base_uri": "https://localhost:8080/",
          "height": 854
        }
      },
      "source": [
        "y[y['Price']>0]"
      ],
      "execution_count": 112,
      "outputs": [
        {
          "output_type": "execute_result",
          "data": {
            "text/html": [
              "<div>\n",
              "<style scoped>\n",
              "    .dataframe tbody tr th:only-of-type {\n",
              "        vertical-align: middle;\n",
              "    }\n",
              "\n",
              "    .dataframe tbody tr th {\n",
              "        vertical-align: top;\n",
              "    }\n",
              "\n",
              "    .dataframe thead th {\n",
              "        text-align: right;\n",
              "    }\n",
              "</style>\n",
              "<table border=\"1\" class=\"dataframe\">\n",
              "  <thead>\n",
              "    <tr style=\"text-align: right;\">\n",
              "      <th></th>\n",
              "      <th>App</th>\n",
              "      <th>Category</th>\n",
              "      <th>Rating</th>\n",
              "      <th>Reviews</th>\n",
              "      <th>Size</th>\n",
              "      <th>Installs</th>\n",
              "      <th>Type</th>\n",
              "      <th>Price</th>\n",
              "      <th>Content Rating</th>\n",
              "      <th>Genres</th>\n",
              "      <th>Last Updated</th>\n",
              "      <th>Current Ver</th>\n",
              "      <th>Android Ver</th>\n",
              "    </tr>\n",
              "  </thead>\n",
              "  <tbody>\n",
              "    <tr>\n",
              "      <th>189</th>\n",
              "      <td>TurboScan: scan documents and receipts in PDF</td>\n",
              "      <td>BUSINESS</td>\n",
              "      <td>4.7</td>\n",
              "      <td>11442</td>\n",
              "      <td>6800.000000</td>\n",
              "      <td>100000</td>\n",
              "      <td>Paid</td>\n",
              "      <td>4.99</td>\n",
              "      <td>Everyone</td>\n",
              "      <td>Business</td>\n",
              "      <td>March 25, 2018</td>\n",
              "      <td>1.5.2</td>\n",
              "      <td>4.0 and up</td>\n",
              "    </tr>\n",
              "    <tr>\n",
              "      <th>190</th>\n",
              "      <td>Tiny Scanner Pro: PDF Doc Scan</td>\n",
              "      <td>BUSINESS</td>\n",
              "      <td>4.8</td>\n",
              "      <td>10295</td>\n",
              "      <td>39000.000000</td>\n",
              "      <td>100000</td>\n",
              "      <td>Paid</td>\n",
              "      <td>4.99</td>\n",
              "      <td>Everyone</td>\n",
              "      <td>Business</td>\n",
              "      <td>April 11, 2017</td>\n",
              "      <td>3.4.6</td>\n",
              "      <td>3.0 and up</td>\n",
              "    </tr>\n",
              "    <tr>\n",
              "      <th>238</th>\n",
              "      <td>TurboScan: scan documents and receipts in PDF</td>\n",
              "      <td>BUSINESS</td>\n",
              "      <td>4.7</td>\n",
              "      <td>11442</td>\n",
              "      <td>6800.000000</td>\n",
              "      <td>100000</td>\n",
              "      <td>Paid</td>\n",
              "      <td>4.99</td>\n",
              "      <td>Everyone</td>\n",
              "      <td>Business</td>\n",
              "      <td>March 25, 2018</td>\n",
              "      <td>1.5.2</td>\n",
              "      <td>4.0 and up</td>\n",
              "    </tr>\n",
              "    <tr>\n",
              "      <th>239</th>\n",
              "      <td>Tiny Scanner Pro: PDF Doc Scan</td>\n",
              "      <td>BUSINESS</td>\n",
              "      <td>4.8</td>\n",
              "      <td>10295</td>\n",
              "      <td>39000.000000</td>\n",
              "      <td>100000</td>\n",
              "      <td>Paid</td>\n",
              "      <td>4.99</td>\n",
              "      <td>Everyone</td>\n",
              "      <td>Business</td>\n",
              "      <td>April 11, 2017</td>\n",
              "      <td>3.4.6</td>\n",
              "      <td>3.0 and up</td>\n",
              "    </tr>\n",
              "    <tr>\n",
              "      <th>301</th>\n",
              "      <td>Puffin Browser Pro</td>\n",
              "      <td>COMMUNICATION</td>\n",
              "      <td>4.0</td>\n",
              "      <td>18247</td>\n",
              "      <td>21516.529524</td>\n",
              "      <td>100000</td>\n",
              "      <td>Paid</td>\n",
              "      <td>3.99</td>\n",
              "      <td>Everyone</td>\n",
              "      <td>Communication</td>\n",
              "      <td>July 5, 2018</td>\n",
              "      <td>7.5.3.20547</td>\n",
              "      <td>4.1 and up</td>\n",
              "    </tr>\n",
              "    <tr>\n",
              "      <th>...</th>\n",
              "      <td>...</td>\n",
              "      <td>...</td>\n",
              "      <td>...</td>\n",
              "      <td>...</td>\n",
              "      <td>...</td>\n",
              "      <td>...</td>\n",
              "      <td>...</td>\n",
              "      <td>...</td>\n",
              "      <td>...</td>\n",
              "      <td>...</td>\n",
              "      <td>...</td>\n",
              "      <td>...</td>\n",
              "      <td>...</td>\n",
              "    </tr>\n",
              "    <tr>\n",
              "      <th>7154</th>\n",
              "      <td>Fruit Ninja Classic</td>\n",
              "      <td>GAME</td>\n",
              "      <td>4.3</td>\n",
              "      <td>85468</td>\n",
              "      <td>36000.000000</td>\n",
              "      <td>1000000</td>\n",
              "      <td>Paid</td>\n",
              "      <td>0.99</td>\n",
              "      <td>Everyone</td>\n",
              "      <td>Arcade</td>\n",
              "      <td>June 8, 2018</td>\n",
              "      <td>2.4.1.485300</td>\n",
              "      <td>4.0.3 and up</td>\n",
              "    </tr>\n",
              "    <tr>\n",
              "      <th>7161</th>\n",
              "      <td>FO Bixby</td>\n",
              "      <td>PERSONALIZATION</td>\n",
              "      <td>5.0</td>\n",
              "      <td>5</td>\n",
              "      <td>861.000000</td>\n",
              "      <td>100</td>\n",
              "      <td>Paid</td>\n",
              "      <td>0.99</td>\n",
              "      <td>Everyone</td>\n",
              "      <td>Personalization</td>\n",
              "      <td>April 25, 2018</td>\n",
              "      <td>0.2</td>\n",
              "      <td>7.0 and up</td>\n",
              "    </tr>\n",
              "    <tr>\n",
              "      <th>7200</th>\n",
              "      <td>Fast Tract Diet</td>\n",
              "      <td>HEALTH_AND_FITNESS</td>\n",
              "      <td>4.4</td>\n",
              "      <td>35</td>\n",
              "      <td>2400.000000</td>\n",
              "      <td>1000</td>\n",
              "      <td>Paid</td>\n",
              "      <td>7.99</td>\n",
              "      <td>Everyone</td>\n",
              "      <td>Health &amp; Fitness</td>\n",
              "      <td>August 8, 2018</td>\n",
              "      <td>1.9.3</td>\n",
              "      <td>4.2 and up</td>\n",
              "    </tr>\n",
              "    <tr>\n",
              "      <th>7213</th>\n",
              "      <td>Trine 2: Complete Story</td>\n",
              "      <td>GAME</td>\n",
              "      <td>3.8</td>\n",
              "      <td>252</td>\n",
              "      <td>11000.000000</td>\n",
              "      <td>10000</td>\n",
              "      <td>Paid</td>\n",
              "      <td>16.99</td>\n",
              "      <td>Teen</td>\n",
              "      <td>Action</td>\n",
              "      <td>February 27, 2015</td>\n",
              "      <td>2.22</td>\n",
              "      <td>5.0 and up</td>\n",
              "    </tr>\n",
              "    <tr>\n",
              "      <th>7215</th>\n",
              "      <td>sugar, sugar</td>\n",
              "      <td>FAMILY</td>\n",
              "      <td>4.2</td>\n",
              "      <td>1405</td>\n",
              "      <td>9500.000000</td>\n",
              "      <td>10000</td>\n",
              "      <td>Paid</td>\n",
              "      <td>1.20</td>\n",
              "      <td>Everyone</td>\n",
              "      <td>Puzzle</td>\n",
              "      <td>June 5, 2018</td>\n",
              "      <td>2.7</td>\n",
              "      <td>2.3 and up</td>\n",
              "    </tr>\n",
              "  </tbody>\n",
              "</table>\n",
              "<p>620 rows × 13 columns</p>\n",
              "</div>"
            ],
            "text/plain": [
              "                                                App  ...   Android Ver\n",
              "189   TurboScan: scan documents and receipts in PDF  ...    4.0 and up\n",
              "190                  Tiny Scanner Pro: PDF Doc Scan  ...    3.0 and up\n",
              "238   TurboScan: scan documents and receipts in PDF  ...    4.0 and up\n",
              "239                  Tiny Scanner Pro: PDF Doc Scan  ...    3.0 and up\n",
              "301                              Puffin Browser Pro  ...    4.1 and up\n",
              "...                                             ...  ...           ...\n",
              "7154                            Fruit Ninja Classic  ...  4.0.3 and up\n",
              "7161                                       FO Bixby  ...    7.0 and up\n",
              "7200                                Fast Tract Diet  ...    4.2 and up\n",
              "7213                        Trine 2: Complete Story  ...    5.0 and up\n",
              "7215                                   sugar, sugar  ...    2.3 and up\n",
              "\n",
              "[620 rows x 13 columns]"
            ]
          },
          "metadata": {
            "tags": []
          },
          "execution_count": 112
        }
      ]
    },
    {
      "cell_type": "markdown",
      "metadata": {
        "id": "IIzglNi_LhTB",
        "colab_type": "text"
      },
      "source": [
        "__8. Effect of price on rating__\n",
        "\n",
        "---\n",
        "\n",
        "\n",
        "\n",
        ">__a. Make a jointplot (with regression line)__"
      ]
    },
    {
      "cell_type": "code",
      "metadata": {
        "id": "8zwJKSeKLhTC",
        "colab_type": "code",
        "colab": {}
      },
      "source": [
        "y['Price']=y['Price'].astype('int32')"
      ],
      "execution_count": 0,
      "outputs": []
    },
    {
      "cell_type": "code",
      "metadata": {
        "id": "7-mt0hHTLhTE",
        "colab_type": "code",
        "outputId": "1baa53d1-a97f-454a-e1f8-d05669c8dd4b",
        "colab": {
          "base_uri": "https://localhost:8080/",
          "height": 34
        }
      },
      "source": [
        "y.shape"
      ],
      "execution_count": 114,
      "outputs": [
        {
          "output_type": "execute_result",
          "data": {
            "text/plain": [
              "(7252, 13)"
            ]
          },
          "metadata": {
            "tags": []
          },
          "execution_count": 114
        }
      ]
    },
    {
      "cell_type": "code",
      "metadata": {
        "id": "ycKV2qa-LhTG",
        "colab_type": "code",
        "outputId": "2bb25108-e21a-4b40-bd42-98afa8d826dc",
        "colab": {
          "base_uri": "https://localhost:8080/",
          "height": 454
        }
      },
      "source": [
        "\n",
        "plt.figure(figsize=(50,5))\n",
        "sns.jointplot(x=\"Price\", y=\"Rating\", data=y, kind=\"reg\");"
      ],
      "execution_count": 115,
      "outputs": [
        {
          "output_type": "display_data",
          "data": {
            "text/plain": [
              "<Figure size 3600x360 with 0 Axes>"
            ]
          },
          "metadata": {
            "tags": []
          }
        },
        {
          "output_type": "display_data",
          "data": {
            "image/png": "[encoded data removed]",
            "text/plain": [
              "<Figure size 432x432 with 3 Axes>"
            ]
          },
          "metadata": {
            "tags": []
          }
        }
      ]
    },
    {
      "cell_type": "markdown",
      "metadata": {
        "id": "I-Tk4QffFCn3",
        "colab_type": "text"
      },
      "source": [
        "#d. Replot the data, this time with only records with price > 0\n"
      ]
    },
    {
      "cell_type": "code",
      "metadata": {
        "id": "WRFB7CuWtsZx",
        "colab_type": "code",
        "colab": {
          "base_uri": "https://localhost:8080/",
          "height": 263
        },
        "outputId": "ca4ca99c-5361-4391-9615-e651eda9ffca"
      },
      "source": [
        "y=y[y['Price']>0]\n",
        "print(y)"
      ],
      "execution_count": 126,
      "outputs": [
        {
          "output_type": "stream",
          "text": [
            "                                                App  ...         Android Ver\n",
            "189   TurboScan: scan documents and receipts in PDF  ...          4.0 and up\n",
            "190                  Tiny Scanner Pro: PDF Doc Scan  ...          3.0 and up\n",
            "238   TurboScan: scan documents and receipts in PDF  ...          4.0 and up\n",
            "239                  Tiny Scanner Pro: PDF Doc Scan  ...          3.0 and up\n",
            "301                              Puffin Browser Pro  ...          4.1 and up\n",
            "...                                             ...  ...                 ...\n",
            "7134                   Football Manager Mobile 2018  ...          4.1 and up\n",
            "7151                                     Solitaire+  ...  Varies with device\n",
            "7200                                Fast Tract Diet  ...          4.2 and up\n",
            "7213                        Trine 2: Complete Story  ...          5.0 and up\n",
            "7215                                   sugar, sugar  ...          2.3 and up\n",
            "\n",
            "[515 rows x 13 columns]\n"
          ],
          "name": "stdout"
        }
      ]
    },
    {
      "cell_type": "code",
      "metadata": {
        "id": "KjecVNRGtsh0",
        "colab_type": "code",
        "outputId": "8185237b-57e0-4835-87fe-2871d0a4cf2a",
        "colab": {
          "base_uri": "https://localhost:8080/",
          "height": 437
        }
      },
      "source": [
        "sns.jointplot(x=\"Price\", y=\"Rating\", data=y, kind=\"reg\");"
      ],
      "execution_count": 125,
      "outputs": [
        {
          "output_type": "display_data",
          "data": {
            "image/png": "[encoded data removed]",
            "text/plain": [
              "<Figure size 432x432 with 3 Axes>"
            ]
          },
          "metadata": {
            "tags": []
          }
        }
      ]
    },
    {
      "cell_type": "markdown",
      "metadata": {
        "id": "j2JA4bYjI5_6",
        "colab_type": "text"
      },
      "source": [
        "#e. Does the pattern change?\n",
        ">__Yes Pattern changes because in price column '0' values are more then 6000+__"
      ]
    },
    {
      "cell_type": "code",
      "metadata": {
        "id": "uPfkVZaALhTI",
        "colab_type": "code",
        "colab": {
          "base_uri": "https://localhost:8080/",
          "height": 747
        },
        "outputId": "a9b7df8b-f6c9-48d1-90ed-13251a8ee12a"
      },
      "source": [
        "pp = sns.pairplot(data=y,\n",
        "                  y_vars=['Reviews','Size', 'Rating', 'Price'],\n",
        "                  x_vars=['Reviews','Size', 'Rating', 'Price'])"
      ],
      "execution_count": 127,
      "outputs": [
        {
          "output_type": "display_data",
          "data": {
            "image/png": "[encoded data removed]",
            "text/plain": [
              "<Figure size 720x720 with 20 Axes>"
            ]
          },
          "metadata": {
            "tags": []
          }
        }
      ]
    },
    {
      "cell_type": "code",
      "metadata": {
        "id": "zilDOhC9LhTO",
        "colab_type": "code",
        "colab": {
          "base_uri": "https://localhost:8080/",
          "height": 105
        },
        "outputId": "45681ff2-b507-40ae-906f-2d921e3548c6"
      },
      "source": [
        "y['Content Rating'].value_counts()"
      ],
      "execution_count": 128,
      "outputs": [
        {
          "output_type": "execute_result",
          "data": {
            "text/plain": [
              "Everyone        440\n",
              "Teen             36\n",
              "Everyone 10+     25\n",
              "Mature 17+       14\n",
              "Name: Content Rating, dtype: int64"
            ]
          },
          "metadata": {
            "tags": []
          },
          "execution_count": 128
        }
      ]
    },
    {
      "cell_type": "code",
      "metadata": {
        "id": "sCKTLkJ9yHJm",
        "colab_type": "code",
        "colab": {
          "base_uri": "https://localhost:8080/",
          "height": 448
        },
        "outputId": "782bf753-9ba9-4460-e73a-971496d6a6ac"
      },
      "source": [
        "import seaborn as sns\n",
        "plt.figure(figsize=(10,7))\n",
        "sns.set(style=\"darkgrid\")\n",
        "\n",
        "ax = sns.barplot(x=\"Content Rating\", y=\"Rating\",palette=\"Blues_d\",hue=\"Content Rating\", ci=\"sd\",data=y)"
      ],
      "execution_count": 129,
      "outputs": [
        {
          "output_type": "display_data",
          "data": {
            "image/png": "[encoded data removed]",
            "text/plain": [
              "<Figure size 720x504 with 1 Axes>"
            ]
          },
          "metadata": {
            "tags": []
          }
        }
      ]
    },
    {
      "cell_type": "code",
      "metadata": {
        "id": "aiAnfweWdQhQ",
        "colab_type": "code",
        "colab": {}
      },
      "source": [
        "y['Size']=y['Size'].astype('int32')"
      ],
      "execution_count": 0,
      "outputs": []
    },
    {
      "cell_type": "code",
      "metadata": {
        "id": "5xB6UGoT5XUc",
        "colab_type": "code",
        "colab": {
          "base_uri": "https://localhost:8080/",
          "height": 263
        },
        "outputId": "6c54fa05-82e9-4482-a3d4-0f0d9f38f527"
      },
      "source": [
        "y.dtypes"
      ],
      "execution_count": 209,
      "outputs": [
        {
          "output_type": "execute_result",
          "data": {
            "text/plain": [
              "App                object\n",
              "Category           object\n",
              "Rating            float64\n",
              "Reviews             int32\n",
              "Size                int32\n",
              "Installs            int64\n",
              "Type               object\n",
              "Price               int32\n",
              "Content Rating     object\n",
              "Genres             object\n",
              "Last Updated       object\n",
              "Current Ver        object\n",
              "Android Ver        object\n",
              "dtype: object"
            ]
          },
          "metadata": {
            "tags": []
          },
          "execution_count": 209
        }
      ]
    },
    {
      "cell_type": "code",
      "metadata": {
        "id": "rfFLI7CgN763",
        "colab_type": "code",
        "colab": {
          "base_uri": "https://localhost:8080/",
          "height": 179
        },
        "outputId": "c4834c55-292c-4c4d-cdaa-d199a2a3e93a"
      },
      "source": [
        "fig_dims = (40, 5)\n",
        "fig, ax = plt.subplots(figsize=fig_dims)\n",
        "#df_heatmap.head(10)\n",
        "df_heatmap = y.pivot_table(values='Size',index='Content Rating',columns='Rating')\n",
        "#df_heatmap.head(10)\n",
        "sns.heatmap(df_heatmap,annot=True,cmap='YlGnBu',linewidths=1)\n",
        "\n",
        "plt.show()"
      ],
      "execution_count": 222,
      "outputs": [
        {
          "output_type": "display_data",
          "data": {
            "image/png": "[encoded data removed]",
            "text/plain": [
              "<Figure size 2880x360 with 2 Axes>"
            ]
          },
          "metadata": {
            "tags": []
          }
        }
      ]
    },
    {
      "cell_type": "code",
      "metadata": {
        "id": "xOCK-FAGfE-v",
        "colab_type": "code",
        "colab": {
          "base_uri": "https://localhost:8080/",
          "height": 179
        },
        "outputId": "0ad388f0-9106-4f58-b38d-b0e02ef5eabe"
      },
      "source": [
        "fig_dims = (40, 5)\n",
        "fig, ax = plt.subplots(figsize=fig_dims)\n",
        "#df_heatmap.head(10)\n",
        "df_heatmap = y.pivot_table(values='Size',index='Content Rating',columns='Rating')\n",
        "#df_heatmap.head(10)\n",
        "sns.heatmap(df_heatmap,annot=True,cmap='Greens',linewidths=1)\n",
        "\n",
        "plt.show()"
      ],
      "execution_count": 213,
      "outputs": [
        {
          "output_type": "display_data",
          "data": {
            "image/png": "[encoded data removed]",
            "text/plain": [
              "<Figure size 2880x360 with 2 Axes>"
            ]
          },
          "metadata": {
            "tags": []
          }
        }
      ]
    },
    {
      "cell_type": "code",
      "metadata": {
        "id": "4_XPc3pRHVyN",
        "colab_type": "code",
        "colab": {
          "base_uri": "https://localhost:8080/",
          "height": 421
        },
        "outputId": "583aa7b8-100d-4fc3-fc96-084bbcf67b1a"
      },
      "source": [
        "y['Size'].unique()"
      ],
      "execution_count": 207,
      "outputs": [
        {
          "output_type": "execute_result",
          "data": {
            "text/plain": [
              "array([  6800,  39000,  21516,   6200,  17000,  63000,  44000,  24000,\n",
              "        53000,   2300,  29000,  35000,  48000,  84000,  15000,  69000,\n",
              "        46000,  33000,  79000,  60000,  82000,   6900,  11000,   3500,\n",
              "        67000,  26000,  72000,  37000,   1200,  12000,  83000,   9500,\n",
              "        23000,   2900,  25000,  20000,  21000,   5400,  42000,   1800,\n",
              "         3800,   5800,  19000,   5000,    862,   9900,   2400,    899,\n",
              "        38000,   6500,  14000,    378,  22000,    266,    375,   2800,\n",
              "        95000,   2600,   4600,   5100,   8400,  18000,  41000, 100000,\n",
              "         5900,   6300,   8600,  64000,   7700,     58,  16000,    196,\n",
              "         8100,   3400,   6100,   1600,    857,   1500,     51,  13000,\n",
              "         8900,   6400,   9100,  34000,  59000,   3300,  32000,  49000,\n",
              "        40000,  47000,   1300,    313,   5200,   4500,   4300,   3600,\n",
              "         3900,   4900,  57000,  93000,     26,   2700,   3700,   7900,\n",
              "         4200,   8500,   2000,  68000,   8300,  92000,   4400,   4100,\n",
              "         1100,    293,     17,     81,   5700,  50000,   1400,   5300,\n",
              "        45000,  73000,    655,  96000,    872,  99000,   4000,   9000,\n",
              "          206,    954,   9400,   6000,   7200,   7800,  86000,   2100,\n",
              "         8000,   7400,   4800,   4700,  54000,    383,   1000,   3100,\n",
              "        30000,   7300,   5500,     25,     27,   7000,  36000,  27000,\n",
              "           29,    173,  28000,     50,  70000,    516,  81000,  55000,\n",
              "         2500,  10000,    288,  58000,   9300,  31000,  94000,   8700,\n",
              "          500,  43000,    270,   2200,     24,   3000,   6600,    170,\n",
              "          141,    160,    144,    143,    957], dtype=int32)"
            ]
          },
          "metadata": {
            "tags": []
          },
          "execution_count": 207
        }
      ]
    },
    {
      "cell_type": "code",
      "metadata": {
        "id": "0hxMklM3dXF8",
        "colab_type": "code",
        "colab": {}
      },
      "source": [
        ""
      ],
      "execution_count": 0,
      "outputs": []
    }
  ]
}