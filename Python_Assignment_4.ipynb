{
 "cells": [
  {
   "cell_type": "markdown",
   "metadata": {},
   "source": [
    "__1. Write a Python program which accepts the radius of a circle from the user and\n",
    "compute the area.__"
   ]
  },
  {
   "cell_type": "code",
   "execution_count": 1,
   "metadata": {},
   "outputs": [
    {
     "name": "stdout",
     "output_type": "stream",
     "text": [
      "Enter the Radius for Circle  3\n",
      "The Circle for above radius is  28.26\n"
     ]
    }
   ],
   "source": [
    "P = 3.14 # As Pi value is constant i.e  3.14 \n",
    "\n",
    "radius = float(input(\"Enter the Radius for Circle  \")) # Taking input from User as float \n",
    "               \n",
    "circle = P * radius**2 # Fromula for Calculating circle is pi*r**2\n",
    "               \n",
    "print(\"The Circle for above radius is \", circle)"
   ]
  },
  {
   "cell_type": "markdown",
   "metadata": {},
   "source": [
    "__2. Write a Python program which accepts the user's first and last name and print\n",
    "them in reverse order with a space between them.__"
   ]
  },
  {
   "cell_type": "code",
   "execution_count": 19,
   "metadata": {},
   "outputs": [
    {
     "name": "stdout",
     "output_type": "stream",
     "text": [
      "Enter Your First Name : Bhavin\n",
      "Enter Your Last Name : Dedhia\n",
      "nivahB aihdeD\n"
     ]
    }
   ],
   "source": [
    "Fname = input(\"Enter Your First Name : \") # Taking Input from user for First and Lastname and string is default type for input\n",
    "Lname = input(\"Enter Your Last Name : \")\n",
    "\n",
    "Fspace = Fname[::-1] # Using Slicing for Reverse printing \n",
    "Lspace = Lname[::-1]\n",
    "\n",
    "\n",
    "print(Fspace,Lspace)\n"
   ]
  },
  {
   "cell_type": "code",
   "execution_count": 18,
   "metadata": {},
   "outputs": [
    {
     "name": "stdout",
     "output_type": "stream",
     "text": [
      "Enter Your First Name : Bhavin\n",
      "Enter Your Last Name : Dedhia\n",
      "Dedhia Bhavin\n"
     ]
    }
   ],
   "source": [
    "#Same Above Question solve with different ways \n",
    "\n",
    "Fname = input(\"Enter Your First Name : \") # Taking Input from user for First and Lastname and string is default type for input\n",
    "Lname = input(\"Enter Your Last Name : \")\n",
    "\n",
    "print(Lname,Fname)\n"
   ]
  },
  {
   "cell_type": "markdown",
   "metadata": {},
   "source": [
    "__3. Write a Python program which checks if the input number is divisible by 3 or not.__"
   ]
  },
  {
   "cell_type": "code",
   "execution_count": 18,
   "metadata": {},
   "outputs": [
    {
     "name": "stdout",
     "output_type": "stream",
     "text": [
      "Enter a Number Which is Divisble by 3 : 7\n",
      "sorry 7 is not divisble by 3\n"
     ]
    }
   ],
   "source": [
    "x = int(input(\"Enter a Number Which is Divisble by 3 : \"))\n",
    "\n",
    "if x % 3 == 0:\n",
    "    print(\"Yes\",x,\"is divisble by 3\")\n",
    "else:\n",
    "    print(\"sorry\",x,\"is not divisble by 3\")"
   ]
  },
  {
   "cell_type": "markdown",
   "metadata": {},
   "source": [
    "__4. Write a Python program to implement 5 functions of the math module (other than\n",
    "what was taught in the session).__"
   ]
  },
  {
   "cell_type": "code",
   "execution_count": 16,
   "metadata": {},
   "outputs": [
    {
     "name": "stdout",
     "output_type": "stream",
     "text": [
      "Giving Cos value :  -0.4480736161291701\n",
      "Truncate after point :  74\n",
      "Gama Value :  24.0\n",
      "Value of ‘90’ but with the sign of ‘-1’ :  -90.0\n",
      "Giving Degree :  57.29577951308232\n"
     ]
    }
   ],
   "source": [
    "import math as m\n",
    "print(\"Giving Cos value : \",m.cos(90)) # giving Cos value\n",
    "print(\"Truncate after point : \",m.trunc(74.80)) # truncate after point\n",
    "print(\"Gama Value : \",m.gamma(5)) # gama Value\n",
    "print(\"Value of ‘90’ but with the sign of ‘-1’ : \",m.copysign(90,-1)) # value of ‘a’ but with the sign of ‘b’\n",
    "print(\"Giving Degree : \",m.degrees(1)) # giving Degree \n"
   ]
  },
  {
   "cell_type": "markdown",
   "metadata": {},
   "source": [
    "__5. WAP to do a sum of squares.__"
   ]
  },
  {
   "cell_type": "code",
   "execution_count": 56,
   "metadata": {},
   "outputs": [
    {
     "name": "stdout",
     "output_type": "stream",
     "text": [
      "Enter a Number: 4\n",
      "30\n"
     ]
    }
   ],
   "source": [
    "x = int(input(\"Enter a Number: \"))\n",
    "sm = 0\n",
    "\n",
    "for i in range(1,x+1):\n",
    "    sm = sm + (i * i) \n",
    "\n",
    "print(sm)"
   ]
  },
  {
   "cell_type": "markdown",
   "metadata": {},
   "source": [
    "__6) Write a void function that receives a 4 digit number and calculates the sum of\n",
    "squares of first 2 digits number and last two-digit number (Hint:- if 1233 is passed\n",
    "as an argument then the function should calculate 12**2+33**2)__\n",
    "\n",
    "\n"
   ]
  },
  {
   "cell_type": "code",
   "execution_count": 20,
   "metadata": {},
   "outputs": [
    {
     "name": "stdout",
     "output_type": "stream",
     "text": [
      "Enter 4 Digit Number 1234\n",
      "12 34\n",
      "The sum of squares of first 2 digits number and last two-digit number is :  1300\n"
     ]
    }
   ],
   "source": [
    "\n",
    "\n",
    "def voidF(x) :\n",
    "    try :\n",
    "        x = int ( x )\n",
    "        if (len ( str ( x ) ) == 4):\n",
    "\n",
    "            s=str(x)\n",
    "            print(s[:2],s[2:])\n",
    "            a= int(s[:2])**2\n",
    "            b= int(s[2:])**2\n",
    "            print ( \"The sum of squares of first 2 digits number and last two-digit number is : \", a + b )\n",
    "        else :\n",
    "            print ( \"Please Enter 4 number digit only \" )\n",
    "\n",
    "    except ValueError :\n",
    "        print ( \"The Entered Value is not an Interger ....! Please Enter Integer\" )\n",
    "\n",
    "\n",
    "voidF ( input ( \"Enter 4 Digit Number \" ) )\n"
   ]
  },
  {
   "cell_type": "markdown",
   "metadata": {},
   "source": [
    "__7. Write a function that takes one argument (a +ve int) and report if the argument is\n",
    "prime or not.WAP that invokes this function.__\n",
    "\n"
   ]
  },
  {
   "cell_type": "code",
   "execution_count": 6,
   "metadata": {},
   "outputs": [
    {
     "name": "stdout",
     "output_type": "stream",
     "text": [
      "Enter the Positive Number : 5\n",
      "5 is a Prime number\n"
     ]
    }
   ],
   "source": [
    "def prime(pnum):\n",
    "    for i in range(2,pnum):\n",
    "        if pnum % i == 0:\n",
    "            print(pnum,\"is a Not a Prime Number\")\n",
    "            break\n",
    "    else:\n",
    "        print(pnum,\"is a Prime number\")\n",
    "            \n",
    "pnum=int(input(\"Enter the Positive Number : \"))\n",
    "\n",
    "if (pnum <1) or (pnum ==1):\n",
    "    print(\"Please Enter Proper Number \")\n",
    "else:\n",
    "    (pnum > 1)\n",
    "    prime(pnum)"
   ]
  },
  {
   "cell_type": "markdown",
   "metadata": {},
   "source": [
    "__8 WAP that takes a character (i.e a string of length 1) and returns TRUE if it is a\n",
    "vowel, FALSE otherwise. (Hint: Make use of logical operator)__"
   ]
  },
  {
   "cell_type": "code",
   "execution_count": 14,
   "metadata": {},
   "outputs": [
    {
     "name": "stdout",
     "output_type": "stream",
     "text": [
      "Enter a Char:- a\n",
      "True a is a Vowel\n"
     ]
    }
   ],
   "source": [
    "vnum=input(\"Enter a Char:- \")\n",
    "\n",
    "i=vnum.lower() # If Any enter Capital letter also it will convert first in lower case\n",
    "\n",
    "if i.isdigit() or (len(i)>1):\n",
    "    print(\"It is a number or length of character is greater then 1\")\n",
    "else:\n",
    "    if (i == 'a' or i == 'e' or i == 'i' or i == 'o' or i == 'u') :\n",
    "        print (True, i, \"is a Vowel\")\n",
    "    else :\n",
    "        print (False, i, \"is not a Vowel\")"
   ]
  },
  {
   "cell_type": "markdown",
   "metadata": {},
   "source": [
    "__9. WAP to get the last digit cube.__\n"
   ]
  },
  {
   "cell_type": "code",
   "execution_count": 38,
   "metadata": {},
   "outputs": [
    {
     "name": "stdout",
     "output_type": "stream",
     "text": [
      "Enter a Number: 123\n",
      "Cube of last digit is  27\n"
     ]
    }
   ],
   "source": [
    "lnum=input(\"Enter a Number: \")\n",
    "\n",
    "print(\"Cube of last digit is \",int(lnum[-1])**3)  # converting into into then doing slicing then taking cube of last digit"
   ]
  },
  {
   "cell_type": "markdown",
   "metadata": {},
   "source": [
    "__10.Write a Python program that takes a list and returns a new list with unique\n",
    "elements of the first list.__\n",
    "\n",
    "## Method 1"
   ]
  },
  {
   "cell_type": "code",
   "execution_count": 49,
   "metadata": {},
   "outputs": [
    {
     "name": "stdout",
     "output_type": "stream",
     "text": [
      "[1, 2, 3, 4, 5, 6, 43]\n"
     ]
    }
   ],
   "source": [
    "e=[1,2,3,4,5,6,6,5,43,3,2,1]\n",
    "\n",
    "new=list(set(e)) # set return unique values with dictionary and then converting into list \n",
    "\n",
    "print(new)"
   ]
  },
  {
   "cell_type": "markdown",
   "metadata": {},
   "source": [
    "## Method 2"
   ]
  },
  {
   "cell_type": "code",
   "execution_count": 54,
   "metadata": {},
   "outputs": [
    {
     "name": "stdout",
     "output_type": "stream",
     "text": [
      "[1, 2, 3, 4]\n"
     ]
    }
   ],
   "source": [
    "list = [1,2,3,4,3,2,1]\n",
    "\n",
    "emt=[]\n",
    "\n",
    "for i in list:\n",
    "    if i not in emt:\n",
    "        emt.append(i)\n",
    "print(emt)"
   ]
  },
  {
   "cell_type": "code",
   "execution_count": null,
   "metadata": {},
   "outputs": [],
   "source": []
  }
 ],
 "metadata": {
  "kernelspec": {
   "display_name": "Python 3",
   "language": "python",
   "name": "python3"
  },
  "language_info": {
   "codemirror_mode": {
    "name": "ipython",
    "version": 3
   },
   "file_extension": ".py",
   "mimetype": "text/x-python",
   "name": "python",
   "nbconvert_exporter": "python",
   "pygments_lexer": "ipython3",
   "version": "3.8.2"
  }
 },
 "nbformat": 4,
 "nbformat_minor": 4
}
